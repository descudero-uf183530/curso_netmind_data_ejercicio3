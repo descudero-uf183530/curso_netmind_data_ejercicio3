{
 "cells": [
  {
   "cell_type": "code",
   "execution_count": 2,
   "metadata": {},
   "outputs": [],
   "source": [
    "import pandas as pd"
   ]
  },
  {
   "cell_type": "markdown",
   "metadata": {},
   "source": [
    "# Lectura de datos"
   ]
  },
  {
   "cell_type": "code",
   "execution_count": 24,
   "metadata": {},
   "outputs": [],
   "source": [
    "df_caracteristicas_equipos = pd.read_csv('../data/Caracteristicas_Equipos.csv')\n",
    "df_historicos_ordenes = pd.read_csv('../data/Historicos_Ordenes.csv')\n",
    "df_registros_condiciones = pd.read_csv('../data/Registros_Condiciones.csv')"
   ]
  },
  {
   "cell_type": "markdown",
   "metadata": {},
   "source": [
    "# 1. Preparación DF"
   ]
  },
  {
   "cell_type": "code",
   "execution_count": 25,
   "metadata": {},
   "outputs": [],
   "source": [
    "# Ordenar el dataframe por ID_Equipo y Fecha para asegurarse de que los registros están en orden cronológico\n",
    "df_historicos_ordenes['Fecha'] = pd.to_datetime(df_historicos_ordenes['Fecha'])\n",
    "df_historicos_ordenes = df_historicos_ordenes.sort_values(by=['ID_Equipo', 'Fecha'])\n"
   ]
  },
  {
   "cell_type": "code",
   "execution_count": 26,
   "metadata": {},
   "outputs": [],
   "source": [
    "def agregar_segundos_desde_anterior_mantenimiento(df):\n",
    "    # Asegurarse de que la columna Fecha sea tipo datetime\n",
    "    df['Fecha'] = pd.to_datetime(df['Fecha'])\n",
    "    \n",
    "    # Ordenar por ID_Equipo y Fecha\n",
    "    df = df.sort_values(by=['ID_Equipo', 'Fecha'])\n",
    "\n",
    "    # Calcular la diferencia en segundos respecto al registro anterior del mismo equipo\n",
    "    df['Horas_Desde_Anterior_Mtto'] = df.groupby('ID_Equipo')['Fecha'].diff().dt.total_seconds() / 3600\n",
    "    \n",
    "    return df\n",
    "\n",
    "def comparar_con_horas_recomendadas(df_historicos_ordenes, df_caracteristicas_equipos):\n",
    "    # Unir ambos DataFrames por ID_Equipo\n",
    "    df = df_historicos_ordenes.merge(\n",
    "        df_caracteristicas_equipos[['ID_Equipo', 'Horas_Recomendadas_Revision']],\n",
    "        on='ID_Equipo',\n",
    "        how='left'\n",
    "    )\n",
    "    \n",
    "    # Crear la nueva columna de comparación\n",
    "    df['Supera_Horas_Recomendadas'] = df['Duracion_Horas'] > df['Horas_Recomendadas_Revision']\n",
    "    \n",
    "    return df\n"
   ]
  },
  {
   "cell_type": "code",
   "execution_count": 28,
   "metadata": {},
   "outputs": [],
   "source": [
    "# Supongamos que ya tienes el DataFrame cargado en `df`\n",
    "df_historicos_ordenes_preprocesado = agregar_segundos_desde_anterior_mantenimiento(df_historicos_ordenes)\n",
    "df_historicos_ordenes_preprocesado.to_csv('df_resultado.csv', index=False, sep=';', decimal=',')\n"
   ]
  },
  {
   "cell_type": "code",
   "execution_count": 22,
   "metadata": {},
   "outputs": [
    {
     "name": "stdout",
     "output_type": "stream",
     "text": [
      "       ID_Orden  ID_Equipo               Fecha Tipo_Mantenimiento  \\\n",
      "0           799          1 2020-02-03 06:00:00         Preventivo   \n",
      "1           799          1 2020-02-03 06:00:00         Preventivo   \n",
      "2           837          1 2020-02-04 20:00:00         Correctivo   \n",
      "3           837          1 2020-02-04 20:00:00         Correctivo   \n",
      "4          1344          1 2020-02-25 23:00:00         Correctivo   \n",
      "...         ...        ...                 ...                ...   \n",
      "10112      4990        499 2020-07-26 21:00:00         Correctivo   \n",
      "10113      5429        499 2020-08-14 04:00:00         Correctivo   \n",
      "10114      5894        499 2020-09-02 13:00:00         Correctivo   \n",
      "10115      6002        499 2020-09-07 01:00:00         Preventivo   \n",
      "10116      8598        499 2020-12-24 05:00:00         Preventivo   \n",
      "\n",
      "       Costo_Mantenimiento  Duracion_Horas     Ubicacion  \\\n",
      "0                   404.72              37  Planta Oeste   \n",
      "1                   404.72              37  Planta Oeste   \n",
      "2                  7465.08              39   Planta Este   \n",
      "3                  7465.08              39   Planta Este   \n",
      "4                  7577.35              40  Planta Norte   \n",
      "...                    ...             ...           ...   \n",
      "10112              7767.65              42    Planta Sur   \n",
      "10113              7375.08              34    Planta Sur   \n",
      "10114              9300.79               8   Planta Este   \n",
      "10115              1722.30              27   Planta Este   \n",
      "10116              4446.64              18    Planta Sur   \n",
      "\n",
      "       Segundos_Desde_Anterior  Horas_Recomendadas_Revision  \\\n",
      "0                          NaN                         7725   \n",
      "1                          NaN                         7725   \n",
      "2                         38.0                         7725   \n",
      "3                         38.0                         7725   \n",
      "4                        507.0                         7725   \n",
      "...                        ...                          ...   \n",
      "10112                     66.0                          932   \n",
      "10113                    439.0                          932   \n",
      "10114                    465.0                          932   \n",
      "10115                    108.0                          932   \n",
      "10116                   2596.0                          932   \n",
      "\n",
      "       Supera_Horas_Recomendadas  \n",
      "0                          False  \n",
      "1                          False  \n",
      "2                          False  \n",
      "3                          False  \n",
      "4                          False  \n",
      "...                          ...  \n",
      "10112                      False  \n",
      "10113                      False  \n",
      "10114                      False  \n",
      "10115                      False  \n",
      "10116                      False  \n",
      "\n",
      "[10117 rows x 10 columns]\n"
     ]
    }
   ],
   "source": [
    "//df_resultado = comparar_con_horas_recomendadas(df_historicos_ordenes, df_caracteristicas_equipos)\n",
    "df_resultado.to_csv('df_resultado.csv', index=False, sep=';', decimal=',')\n",
    "print(df_resultado)"
   ]
  },
  {
   "cell_type": "markdown",
   "metadata": {},
   "source": [
    "# 1. Explorar\n"
   ]
  },
  {
   "cell_type": "code",
   "execution_count": null,
   "metadata": {},
   "outputs": [],
   "source": [
    "from ydata_profiling import ProfileReport\n",
    "profile = ProfileReport(df_caracteristicas_equipos, title=\"Caracteristicas Equipos Profiling Report\",\n",
    "                        correlations={\n",
    "                            \"pearson\": {\"calculate\": True},\n",
    "                            \"cramers\": {\"calculate\": True},\n",
    "                        })\n"
   ]
  },
  {
   "cell_type": "code",
   "execution_count": null,
   "metadata": {},
   "outputs": [],
   "source": [
    "profile.to_notebook_iframe()"
   ]
  }
 ],
 "metadata": {
  "kernelspec": {
   "display_name": "NTTData",
   "language": "python",
   "name": "python3"
  },
  "language_info": {
   "codemirror_mode": {
    "name": "ipython",
    "version": 3
   },
   "file_extension": ".py",
   "mimetype": "text/x-python",
   "name": "python",
   "nbconvert_exporter": "python",
   "pygments_lexer": "ipython3",
   "version": "3.9.21"
  }
 },
 "nbformat": 4,
 "nbformat_minor": 2
}
