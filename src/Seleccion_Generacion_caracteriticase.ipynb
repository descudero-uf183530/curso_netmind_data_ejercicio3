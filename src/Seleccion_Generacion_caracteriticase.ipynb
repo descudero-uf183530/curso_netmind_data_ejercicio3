{
 "cells": [
  {
   "cell_type": "markdown",
   "metadata": {},
   "source": []
  },
  {
   "cell_type": "code",
   "execution_count": 29,
   "metadata": {},
   "outputs": [],
   "source": [
    "import pandas as pd\n",
    "import numpy as np\n",
    "from sklearn.pipeline import Pipeline\n",
    "from sklearn.linear_model import LinearRegression, Lasso, Ridge\n",
    "from sklearn.ensemble import RandomForestRegressor\n",
    "from sklearn.metrics import mean_squared_error, mean_absolute_error, r2_score\n",
    "from sklearn.preprocessing import StandardScaler, PolynomialFeatures\n",
    "from sklearn.model_selection import cross_validate\n",
    "from sklearn.model_selection import ShuffleSplit\n",
    "from sklearn.model_selection import train_test_split\n",
    "from sklearn.ensemble import RandomForestClassifier\n",
    "from sklearn.metrics import accuracy_score, classification_report\n",
    "from sklearn.preprocessing import LabelEncoder"
   ]
  },
  {
   "cell_type": "markdown",
   "metadata": {},
   "source": [
    "# carga fichero"
   ]
  },
  {
   "cell_type": "code",
   "execution_count": 30,
   "metadata": {},
   "outputs": [],
   "source": [
    "try:\n",
    "    df_trabajo_fusion = pd.read_csv(\"../output/Datos_Fusionadosv1.csv\")\n",
    "\n",
    "except Exception as e:\n",
    "    print(f\"Error al cargar los datos: {str(e)}\")"
   ]
  },
  {
   "cell_type": "code",
   "execution_count": 31,
   "metadata": {},
   "outputs": [
    {
     "name": "stdout",
     "output_type": "stream",
     "text": [
      "<class 'pandas.core.frame.DataFrame'>\n",
      "RangeIndex: 9951 entries, 0 to 9950\n",
      "Data columns (total 20 columns):\n",
      " #   Column                                  Non-Null Count  Dtype  \n",
      "---  ------                                  --------------  -----  \n",
      " 0   ID_Orden                                9951 non-null   int64  \n",
      " 1   ID_Equipo                               9951 non-null   int64  \n",
      " 2   Fecha                                   9951 non-null   object \n",
      " 3   Tipo_Mantenimiento                      9951 non-null   object \n",
      " 4   Costo_Mantenimiento                     9951 non-null   float64\n",
      " 5   Duracion_Horas                          9951 non-null   int64  \n",
      " 6   Ubicacion                               9951 non-null   object \n",
      " 7   Frecuencia de mantenimiento correctivo  9951 non-null   int64  \n",
      " 8   ID_Registro                             9951 non-null   int64  \n",
      " 9   Temperatura_C                           9951 non-null   float64\n",
      " 10  Vibracion_mm_s                          9951 non-null   float64\n",
      " 11  Horas_Operativas                        9951 non-null   float64\n",
      " 12  Mes                                     9951 non-null   object \n",
      " 13  Horas_Operativas_mean                   9951 non-null   float64\n",
      " 14  Tipo_Equipo                             9951 non-null   object \n",
      " 15  Fabricante                              9951 non-null   object \n",
      " 16  Modelo                                  9951 non-null   object \n",
      " 17  Potencia_kW                             9951 non-null   float64\n",
      " 18  Horas_Recomendadas_Revision             9951 non-null   int64  \n",
      " 19  Fecha_Revision                          9951 non-null   object \n",
      "dtypes: float64(6), int64(6), object(8)\n",
      "memory usage: 1.5+ MB\n"
     ]
    }
   ],
   "source": [
    "df_trabajo_fusion.info()"
   ]
  },
  {
   "cell_type": "markdown",
   "metadata": {},
   "source": [
    "# Convertir Fecha a año mes dia"
   ]
  },
  {
   "cell_type": "code",
   "execution_count": 32,
   "metadata": {},
   "outputs": [],
   "source": [
    "\n",
    "df_trabajo_fusion['Fecha'] = pd.to_datetime(df_trabajo_fusion['Fecha'])\n",
    "\n",
    "# Extraer año, mes y día de la columna 'Fecha'\n",
    "df_trabajo_fusion['Año_O'] = df_trabajo_fusion['Fecha'].dt.year\n",
    "df_trabajo_fusion['Mes_O'] = df_trabajo_fusion['Fecha'].dt.month\n",
    "df_trabajo_fusion['Día_O'] = df_trabajo_fusion['Fecha'].dt.day"
   ]
  },
  {
   "cell_type": "code",
   "execution_count": 33,
   "metadata": {},
   "outputs": [
    {
     "name": "stdout",
     "output_type": "stream",
     "text": [
      "   ID_Orden  ID_Equipo               Fecha Tipo_Mantenimiento  \\\n",
      "0         1         36 2020-01-01 00:00:00         Preventivo   \n",
      "1         2        244 2020-01-01 01:00:00         Preventivo   \n",
      "2         3        297 2020-01-01 02:00:00         Preventivo   \n",
      "3         4        431 2020-01-01 03:00:00         Correctivo   \n",
      "4         5        403 2020-01-01 04:00:00         Correctivo   \n",
      "\n",
      "   Costo_Mantenimiento  Duracion_Horas     Ubicacion  \\\n",
      "0              6754.12               3  Planta Norte   \n",
      "1              4274.63              35  Planta Norte   \n",
      "2              5752.00              25  Planta Norte   \n",
      "3              5690.14               8    Planta Sur   \n",
      "4              7048.79              28  Planta Norte   \n",
      "\n",
      "   Frecuencia de mantenimiento correctivo  ID_Registro  Temperatura_C  ...  \\\n",
      "0                                       9          307         139.97  ...   \n",
      "1                                      11         1156         141.25  ...   \n",
      "2                                       9           14          71.11  ...   \n",
      "3                                      14          597          89.23  ...   \n",
      "4                                       8          107          61.95  ...   \n",
      "\n",
      "     Tipo_Equipo  Fabricante Modelo  Potencia_kW Horas_Recomendadas_Revision  \\\n",
      "0          Motor     Siemens   M400       4351.0                        3549   \n",
      "1      Generador         ABB   X100       1206.0                        1061   \n",
      "2  Transformador          GE   X100       3728.0                        8016   \n",
      "3  Transformador          GE   M400        253.0                        7764   \n",
      "4          Motor         ABB   Y200       2597.0                        4993   \n",
      "\n",
      "       Fecha_Revision Año_O  Mes_O  Día_O Horas_Desde_Preventivo  \n",
      "0 2020-01-01 00:00:00  2020      1      1                    0.0  \n",
      "1 2020-02-14 06:00:00  2020      1      1                 1061.0  \n",
      "2 2020-11-30 02:00:00  2020      1      1                 8016.0  \n",
      "3 2020-11-30 02:00:00  2020      1      1                 8015.0  \n",
      "4 2020-11-30 02:00:00  2020      1      1                 8014.0  \n",
      "\n",
      "[5 rows x 24 columns]\n"
     ]
    }
   ],
   "source": [
    "\n",
    "# Convertir las columnas 'Fecha' y 'Fecha_Revision' a formato datetime\n",
    "df_trabajo_fusion['Fecha'] = pd.to_datetime(df_trabajo_fusion['Fecha'])\n",
    "df_trabajo_fusion['Fecha_Revision'] = pd.to_datetime(df_trabajo_fusion['Fecha_Revision'])\n",
    "\n",
    "# Calcular la diferencia en horas entre 'Fecha' y 'Fecha_Revision'\n",
    "df_trabajo_fusion['Horas_Desde_Preventivo'] = (df_trabajo_fusion['Fecha_Revision'] - df_trabajo_fusion['Fecha']).dt.total_seconds() / 3600\n",
    "\n",
    "print(df_trabajo_fusion.head())"
   ]
  },
  {
   "cell_type": "markdown",
   "metadata": {},
   "source": [
    "### Eliminar columnas irrelevantes"
   ]
  },
  {
   "cell_type": "code",
   "execution_count": 41,
   "metadata": {},
   "outputs": [
    {
     "data": {
      "application/vnd.microsoft.datawrangler.viewer.v0+json": {
       "columns": [
        {
         "name": "index",
         "rawType": "int64",
         "type": "integer"
        },
        {
         "name": "ID_Equipo",
         "rawType": "int64",
         "type": "integer"
        },
        {
         "name": "Tipo_Mantenimiento",
         "rawType": "object",
         "type": "string"
        },
        {
         "name": "Costo_Mantenimiento",
         "rawType": "float64",
         "type": "float"
        },
        {
         "name": "Duracion_Horas",
         "rawType": "int64",
         "type": "integer"
        },
        {
         "name": "Frecuencia de mantenimiento correctivo",
         "rawType": "int64",
         "type": "integer"
        },
        {
         "name": "Temperatura_C",
         "rawType": "float64",
         "type": "float"
        },
        {
         "name": "Vibracion_mm_s",
         "rawType": "float64",
         "type": "float"
        },
        {
         "name": "Horas_Operativas",
         "rawType": "float64",
         "type": "float"
        },
        {
         "name": "Mes",
         "rawType": "object",
         "type": "string"
        },
        {
         "name": "Horas_Operativas_mean",
         "rawType": "float64",
         "type": "float"
        },
        {
         "name": "Tipo_Equipo",
         "rawType": "object",
         "type": "string"
        },
        {
         "name": "Potencia_kW",
         "rawType": "float64",
         "type": "float"
        },
        {
         "name": "Horas_Recomendadas_Revision",
         "rawType": "int64",
         "type": "integer"
        },
        {
         "name": "Año_O",
         "rawType": "int32",
         "type": "integer"
        },
        {
         "name": "Mes_O",
         "rawType": "int32",
         "type": "integer"
        },
        {
         "name": "Día_O",
         "rawType": "int32",
         "type": "integer"
        },
        {
         "name": "Horas_Desde_Preventivo",
         "rawType": "float64",
         "type": "float"
        }
       ],
       "conversionMethod": "pd.DataFrame",
       "ref": "8540b878-e620-4077-8f80-075b44812c4a",
       "rows": [
        [
         "0",
         "36",
         "Preventivo",
         "6754.12",
         "3",
         "9",
         "139.97",
         "4.31",
         "41114.0",
         "2020-01",
         "41114.0",
         "Motor",
         "4351.0",
         "3549",
         "2020",
         "1",
         "1",
         "0.0"
        ],
        [
         "1",
         "244",
         "Preventivo",
         "4274.63",
         "35",
         "11",
         "141.25",
         "4.82",
         "93042.0",
         "2020-02",
         "93042.0",
         "Generador",
         "1206.0",
         "1061",
         "2020",
         "1",
         "1",
         "1061.0"
        ],
        [
         "2",
         "297",
         "Preventivo",
         "5752.0",
         "25",
         "9",
         "71.11",
         "3.24",
         "42929.0",
         "2020-01",
         "53789.6",
         "Transformador",
         "3728.0",
         "8016",
         "2020",
         "1",
         "1",
         "8016.0"
        ],
        [
         "3",
         "431",
         "Correctivo",
         "5690.14",
         "8",
         "14",
         "89.23",
         "4.12",
         "81714.0",
         "2020-01",
         "81714.0",
         "Transformador",
         "253.0",
         "7764",
         "2020",
         "1",
         "1",
         "8015.0"
        ],
        [
         "4",
         "403",
         "Correctivo",
         "7048.79",
         "28",
         "8",
         "61.95",
         "4.66",
         "96881.0",
         "2020-01",
         "72512.0",
         "Motor",
         "2597.0",
         "4993",
         "2020",
         "1",
         "1",
         "8014.0"
        ]
       ],
       "shape": {
        "columns": 17,
        "rows": 5
       }
      },
      "text/html": [
       "<div>\n",
       "<style scoped>\n",
       "    .dataframe tbody tr th:only-of-type {\n",
       "        vertical-align: middle;\n",
       "    }\n",
       "\n",
       "    .dataframe tbody tr th {\n",
       "        vertical-align: top;\n",
       "    }\n",
       "\n",
       "    .dataframe thead th {\n",
       "        text-align: right;\n",
       "    }\n",
       "</style>\n",
       "<table border=\"1\" class=\"dataframe\">\n",
       "  <thead>\n",
       "    <tr style=\"text-align: right;\">\n",
       "      <th></th>\n",
       "      <th>ID_Equipo</th>\n",
       "      <th>Tipo_Mantenimiento</th>\n",
       "      <th>Costo_Mantenimiento</th>\n",
       "      <th>Duracion_Horas</th>\n",
       "      <th>Frecuencia de mantenimiento correctivo</th>\n",
       "      <th>Temperatura_C</th>\n",
       "      <th>Vibracion_mm_s</th>\n",
       "      <th>Horas_Operativas</th>\n",
       "      <th>Mes</th>\n",
       "      <th>Horas_Operativas_mean</th>\n",
       "      <th>Tipo_Equipo</th>\n",
       "      <th>Potencia_kW</th>\n",
       "      <th>Horas_Recomendadas_Revision</th>\n",
       "      <th>Año_O</th>\n",
       "      <th>Mes_O</th>\n",
       "      <th>Día_O</th>\n",
       "      <th>Horas_Desde_Preventivo</th>\n",
       "    </tr>\n",
       "  </thead>\n",
       "  <tbody>\n",
       "    <tr>\n",
       "      <th>0</th>\n",
       "      <td>36</td>\n",
       "      <td>Preventivo</td>\n",
       "      <td>6754.12</td>\n",
       "      <td>3</td>\n",
       "      <td>9</td>\n",
       "      <td>139.97</td>\n",
       "      <td>4.31</td>\n",
       "      <td>41114.0</td>\n",
       "      <td>2020-01</td>\n",
       "      <td>41114.0</td>\n",
       "      <td>Motor</td>\n",
       "      <td>4351.0</td>\n",
       "      <td>3549</td>\n",
       "      <td>2020</td>\n",
       "      <td>1</td>\n",
       "      <td>1</td>\n",
       "      <td>0.0</td>\n",
       "    </tr>\n",
       "    <tr>\n",
       "      <th>1</th>\n",
       "      <td>244</td>\n",
       "      <td>Preventivo</td>\n",
       "      <td>4274.63</td>\n",
       "      <td>35</td>\n",
       "      <td>11</td>\n",
       "      <td>141.25</td>\n",
       "      <td>4.82</td>\n",
       "      <td>93042.0</td>\n",
       "      <td>2020-02</td>\n",
       "      <td>93042.0</td>\n",
       "      <td>Generador</td>\n",
       "      <td>1206.0</td>\n",
       "      <td>1061</td>\n",
       "      <td>2020</td>\n",
       "      <td>1</td>\n",
       "      <td>1</td>\n",
       "      <td>1061.0</td>\n",
       "    </tr>\n",
       "    <tr>\n",
       "      <th>2</th>\n",
       "      <td>297</td>\n",
       "      <td>Preventivo</td>\n",
       "      <td>5752.00</td>\n",
       "      <td>25</td>\n",
       "      <td>9</td>\n",
       "      <td>71.11</td>\n",
       "      <td>3.24</td>\n",
       "      <td>42929.0</td>\n",
       "      <td>2020-01</td>\n",
       "      <td>53789.6</td>\n",
       "      <td>Transformador</td>\n",
       "      <td>3728.0</td>\n",
       "      <td>8016</td>\n",
       "      <td>2020</td>\n",
       "      <td>1</td>\n",
       "      <td>1</td>\n",
       "      <td>8016.0</td>\n",
       "    </tr>\n",
       "    <tr>\n",
       "      <th>3</th>\n",
       "      <td>431</td>\n",
       "      <td>Correctivo</td>\n",
       "      <td>5690.14</td>\n",
       "      <td>8</td>\n",
       "      <td>14</td>\n",
       "      <td>89.23</td>\n",
       "      <td>4.12</td>\n",
       "      <td>81714.0</td>\n",
       "      <td>2020-01</td>\n",
       "      <td>81714.0</td>\n",
       "      <td>Transformador</td>\n",
       "      <td>253.0</td>\n",
       "      <td>7764</td>\n",
       "      <td>2020</td>\n",
       "      <td>1</td>\n",
       "      <td>1</td>\n",
       "      <td>8015.0</td>\n",
       "    </tr>\n",
       "    <tr>\n",
       "      <th>4</th>\n",
       "      <td>403</td>\n",
       "      <td>Correctivo</td>\n",
       "      <td>7048.79</td>\n",
       "      <td>28</td>\n",
       "      <td>8</td>\n",
       "      <td>61.95</td>\n",
       "      <td>4.66</td>\n",
       "      <td>96881.0</td>\n",
       "      <td>2020-01</td>\n",
       "      <td>72512.0</td>\n",
       "      <td>Motor</td>\n",
       "      <td>2597.0</td>\n",
       "      <td>4993</td>\n",
       "      <td>2020</td>\n",
       "      <td>1</td>\n",
       "      <td>1</td>\n",
       "      <td>8014.0</td>\n",
       "    </tr>\n",
       "  </tbody>\n",
       "</table>\n",
       "</div>"
      ],
      "text/plain": [
       "   ID_Equipo Tipo_Mantenimiento  Costo_Mantenimiento  Duracion_Horas  \\\n",
       "0         36         Preventivo              6754.12               3   \n",
       "1        244         Preventivo              4274.63              35   \n",
       "2        297         Preventivo              5752.00              25   \n",
       "3        431         Correctivo              5690.14               8   \n",
       "4        403         Correctivo              7048.79              28   \n",
       "\n",
       "   Frecuencia de mantenimiento correctivo  Temperatura_C  Vibracion_mm_s  \\\n",
       "0                                       9         139.97            4.31   \n",
       "1                                      11         141.25            4.82   \n",
       "2                                       9          71.11            3.24   \n",
       "3                                      14          89.23            4.12   \n",
       "4                                       8          61.95            4.66   \n",
       "\n",
       "   Horas_Operativas      Mes  Horas_Operativas_mean    Tipo_Equipo  \\\n",
       "0           41114.0  2020-01                41114.0          Motor   \n",
       "1           93042.0  2020-02                93042.0      Generador   \n",
       "2           42929.0  2020-01                53789.6  Transformador   \n",
       "3           81714.0  2020-01                81714.0  Transformador   \n",
       "4           96881.0  2020-01                72512.0          Motor   \n",
       "\n",
       "   Potencia_kW  Horas_Recomendadas_Revision  Año_O  Mes_O  Día_O  \\\n",
       "0       4351.0                         3549   2020      1      1   \n",
       "1       1206.0                         1061   2020      1      1   \n",
       "2       3728.0                         8016   2020      1      1   \n",
       "3        253.0                         7764   2020      1      1   \n",
       "4       2597.0                         4993   2020      1      1   \n",
       "\n",
       "   Horas_Desde_Preventivo  \n",
       "0                     0.0  \n",
       "1                  1061.0  \n",
       "2                  8016.0  \n",
       "3                  8015.0  \n",
       "4                  8014.0  "
      ]
     },
     "execution_count": 41,
     "metadata": {},
     "output_type": "execute_result"
    }
   ],
   "source": [
    "# Eliminar columnas irrelevantes (iniciales hay que añadir mas)\n",
    "\n",
    "discarded_columns = [\"Modelo\", \"Fabricante\", \"ID_Registro\", \"Ubicacion\", \"Fecha\", \"Fecha_Revision\", \"ID_Orden\"]\n",
    "df_trabajo_fusion_limpio = df_trabajo_fusion.drop(discarded_columns, axis=1)\n",
    "df_trabajo_fusion_limpio.head()"
   ]
  },
  {
   "cell_type": "markdown",
   "metadata": {},
   "source": []
  },
  {
   "cell_type": "markdown",
   "metadata": {},
   "source": [
    "# Conversion datos categoricos"
   ]
  },
  {
   "cell_type": "code",
   "execution_count": 42,
   "metadata": {},
   "outputs": [
    {
     "name": "stdout",
     "output_type": "stream",
     "text": [
      "Numerical columns ['ID_Equipo', 'Costo_Mantenimiento', 'Duracion_Horas', 'Frecuencia de mantenimiento correctivo', 'Temperatura_C', 'Vibracion_mm_s', 'Horas_Operativas', 'Horas_Operativas_mean', 'Potencia_kW', 'Horas_Recomendadas_Revision', 'Año_O', 'Mes_O', 'Día_O', 'Horas_Desde_Preventivo']\n",
      "Categorical columns ['Tipo_Mantenimiento', 'Mes', 'Tipo_Equipo']\n"
     ]
    }
   ],
   "source": [
    "# Extraer columnas numéricas y categóricas\n",
    "from sklearn.compose import make_column_selector as selector\n",
    "\n",
    "numerical_columns_selector = selector(dtype_exclude=object)\n",
    "categorical_columns_selector = selector(dtype_include=object)\n",
    "\n",
    "numerical_columns = numerical_columns_selector(df_trabajo_fusion_limpio)\n",
    "categorical_columns = categorical_columns_selector(df_trabajo_fusion_limpio)\n",
    "\n",
    "print(\"Numerical columns\", numerical_columns)\n",
    "print(\"Categorical columns\", categorical_columns)"
   ]
  },
  {
   "cell_type": "markdown",
   "metadata": {},
   "source": [
    "# Conversion de datos categoricos"
   ]
  },
  {
   "cell_type": "code",
   "execution_count": 43,
   "metadata": {},
   "outputs": [
    {
     "name": "stdout",
     "output_type": "stream",
     "text": [
      "   ID_Equipo  Tipo_Mantenimiento  Costo_Mantenimiento  Duracion_Horas  \\\n",
      "0         36                   1              6754.12               3   \n",
      "1        244                   1              4274.63              35   \n",
      "2        297                   1              5752.00              25   \n",
      "3        431                   0              5690.14               8   \n",
      "4        403                   0              7048.79              28   \n",
      "\n",
      "   Frecuencia de mantenimiento correctivo  Temperatura_C  Vibracion_mm_s  \\\n",
      "0                                       9         139.97            4.31   \n",
      "1                                      11         141.25            4.82   \n",
      "2                                       9          71.11            3.24   \n",
      "3                                      14          89.23            4.12   \n",
      "4                                       8          61.95            4.66   \n",
      "\n",
      "   Horas_Operativas  Mes  Horas_Operativas_mean  Tipo_Equipo  Potencia_kW  \\\n",
      "0           41114.0    0                41114.0            2       4351.0   \n",
      "1           93042.0    1                93042.0            1       1206.0   \n",
      "2           42929.0    0                53789.6            3       3728.0   \n",
      "3           81714.0    0                81714.0            3        253.0   \n",
      "4           96881.0    0                72512.0            2       2597.0   \n",
      "\n",
      "   Horas_Recomendadas_Revision  Año_O  Mes_O  Día_O  Horas_Desde_Preventivo  \n",
      "0                         3549   2020      1      1                     0.0  \n",
      "1                         1061   2020      1      1                  1061.0  \n",
      "2                         8016   2020      1      1                  8016.0  \n",
      "3                         7764   2020      1      1                  8015.0  \n",
      "4                         4993   2020      1      1                  8014.0  \n"
     ]
    }
   ],
   "source": [
    "# Crear el LabelEncoder\n",
    "label_encoders = {}\n",
    "\n",
    "# Ajustar y transformar las columnas categóricas\n",
    "for column in categorical_columns:\n",
    "    le = LabelEncoder()\n",
    "    df_trabajo_fusion_limpio[column] = le.fit_transform(df_trabajo_fusion_limpio[column])\n",
    "    label_encoders[column] = le\n",
    "\n",
    "print(df_trabajo_fusion_limpio.head())"
   ]
  },
  {
   "cell_type": "markdown",
   "metadata": {},
   "source": [
    "# Guardado Intermedio"
   ]
  },
  {
   "cell_type": "code",
   "execution_count": 44,
   "metadata": {},
   "outputs": [],
   "source": [
    "# Guardar el dataframe final mezclado en un nuevo archivo CSV\n",
    "df_trabajo_fusion_limpio.to_csv('../output/Datos_Fusionadosv2.csv', index=False)"
   ]
  },
  {
   "cell_type": "markdown",
   "metadata": {},
   "source": [
    "# Datos escalados"
   ]
  },
  {
   "cell_type": "code",
   "execution_count": 45,
   "metadata": {},
   "outputs": [
    {
     "name": "stdout",
     "output_type": "stream",
     "text": [
      "   ID_Equipo  Costo_Mantenimiento  Duracion_Horas  \\\n",
      "0  -1.481601             0.574740       -1.541048   \n",
      "1  -0.035868            -0.278163        0.813797   \n",
      "2   0.332516             0.230027        0.077908   \n",
      "3   1.263902             0.208749       -1.173104   \n",
      "4   1.069284             0.676101        0.298674   \n",
      "\n",
      "   Frecuencia de mantenimiento correctivo  Temperatura_C  Vibracion_mm_s  \\\n",
      "0                               -0.463810       1.360251        1.190803   \n",
      "1                                0.211446       1.403471        1.544833   \n",
      "2                               -0.463810      -0.964825        0.448034   \n",
      "3                                1.224330      -0.352999        1.058909   \n",
      "4                               -0.801438      -1.274115        1.433765   \n",
      "\n",
      "   Horas_Operativas       Mes  Horas_Operativas_mean  Tipo_Equipo  \\\n",
      "0         -0.290706 -1.667356              -0.368066     0.442590   \n",
      "1          1.498749 -1.398662               1.818257    -0.443926   \n",
      "2         -0.228160 -1.667356               0.165614     1.329106   \n",
      "3          1.108382 -1.667356               1.341314     1.329106   \n",
      "4          1.631042 -1.667356               0.953883     0.442590   \n",
      "\n",
      "   Potencia_kW  Horas_Recomendadas_Revision     Año_O     Mes_O    Día_O  \\\n",
      "0     1.000228                    -0.663734 -0.371884 -1.340991 -1.65645   \n",
      "1    -0.797845                    -1.575407 -0.371884 -1.340991 -1.65645   \n",
      "2     0.644044                     0.973099 -0.371884 -1.340991 -1.65645   \n",
      "3    -1.342698                     0.880759 -0.371884 -1.340991 -1.65645   \n",
      "4    -0.002576                    -0.134612 -0.371884 -1.340991 -1.65645   \n",
      "\n",
      "   Horas_Desde_Preventivo  Tipo_Mantenimiento  \n",
      "0               -1.998698                   1  \n",
      "1               -1.612793                   1  \n",
      "2                0.916867                   1  \n",
      "3                0.916503                   0  \n",
      "4                0.916139                   0  \n"
     ]
    }
   ],
   "source": [
    "# Seleccionar las características y la variable objetivo\n",
    "X = df_trabajo_fusion_limpio.drop(columns=['Tipo_Mantenimiento'])\n",
    "y = df_trabajo_fusion_limpio['Tipo_Mantenimiento']\n",
    "\n",
    "# Escalar los datos\n",
    "scaler = StandardScaler()\n",
    "X_scaled = scaler.fit_transform(X)\n",
    "\n",
    "# Convertir el array escalado a DataFrame\n",
    "X_scaled_df = pd.DataFrame(X_scaled, columns=X.columns)\n",
    "\n",
    "# Añadir la variable objetivo al DataFrame escalado\n",
    "X_scaled_df['Tipo_Mantenimiento'] = y.values\n",
    "\n",
    "# Mostrar las primeras filas del DataFrame escalado\n",
    "print(X_scaled_df.head())\n"
   ]
  },
  {
   "cell_type": "markdown",
   "metadata": {},
   "source": [
    "# Guardado Final"
   ]
  },
  {
   "cell_type": "code",
   "execution_count": 46,
   "metadata": {},
   "outputs": [],
   "source": [
    "# Guardar el dataframe final mezclado en un nuevo archivo CSV\n",
    "df_trabajo_fusion_limpio.to_csv('../output/Datos_Fusionadosv2_escalado.csv', index=False)"
   ]
  }
 ],
 "metadata": {
  "kernelspec": {
   "display_name": "base",
   "language": "python",
   "name": "python3"
  },
  "language_info": {
   "codemirror_mode": {
    "name": "ipython",
    "version": 3
   },
   "file_extension": ".py",
   "mimetype": "text/x-python",
   "name": "python",
   "nbconvert_exporter": "python",
   "pygments_lexer": "ipython3",
   "version": "3.12.7"
  }
 },
 "nbformat": 4,
 "nbformat_minor": 2
}
