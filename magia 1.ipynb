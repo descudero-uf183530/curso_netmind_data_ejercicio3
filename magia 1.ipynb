{
  "cells": [
    {
      "cell_type": "markdown",
      "source": [
        "#### *Paso 1: Carga y Exploración Inicial*\n",
        "\n",
        "Vamos a iniciar cargando y explorando los datos que has proporcionado: equipos_info2.csv. \n",
        "\n",
        "Realizaremos una primera revisión para conocer estructura, tipo de datos, distribución, posibles valores faltantes y una primera idea de variables que podamos aprovechar."
      ],
      "metadata": {
        "nteract": {
          "transient": {
            "deleting": false
          }
        }
      }
    },
    {
      "cell_type": "code",
      "source": [
        "# Importación de librerías necesarias\n",
        "import pandas as pd\n",
        "\n",
        "# Cargar el dataset proporcionado\n",
        "file_path = 'output/equipos_info2.csv'\n",
        "equipos_df = pd.read_csv(file_path)\n",
        "\n",
        "# Exploración inicial de los datos\n",
        "equipos_df.info(), equipos_df.head()\n"
      ],
      "outputs": [
        {
          "output_type": "stream",
          "name": "stdout",
          "text": "<class 'pandas.core.frame.DataFrame'>\nRangeIndex: 178007 entries, 0 to 178006\nData columns (total 23 columns):\n #   Column                       Non-Null Count   Dtype  \n---  ------                       --------------   -----  \n 0   ID_Equipo                    178007 non-null  int64  \n 1   Tipo_Equipo                  178007 non-null  object \n 2   Fabricante                   178007 non-null  object \n 3   Modelo                       178007 non-null  object \n 4   Potencia_kW                  178007 non-null  float64\n 5   Horas_Recomendadas_Revision  178007 non-null  int64  \n 6   Frecuencia_Mto               178007 non-null  int64  \n 7   Vida_Util                    178007 non-null  float64\n 8   ID_Registro                  178007 non-null  int64  \n 9   Fecha_x                      178007 non-null  object \n 10  Temperatura_C                178007 non-null  float64\n 11  Vibracion_mm_s               178007 non-null  float64\n 12  Horas_Operativas             178007 non-null  float64\n 13  ID_Orden                     178007 non-null  int64  \n 14  Fecha_y                      178007 non-null  object \n 15  Tipo_Mantenimiento           178007 non-null  object \n 16  Costo_Mantenimiento          178007 non-null  float64\n 17  Duracion_Horas               178007 non-null  int64  \n 18  Ubicacion                    178007 non-null  object \n 19  Fallo                        178007 non-null  int64  \n 20  Numero_Fallos                178007 non-null  int64  \n 21  Total_Registros              178007 non-null  int64  \n 22  Probabilidad_Fallo           178007 non-null  float64\ndtypes: float64(7), int64(9), object(7)\nmemory usage: 31.2+ MB\n"
        },
        {
          "output_type": "execute_result",
          "execution_count": 5,
          "data": {
            "text/plain": "(None,\n    ID_Equipo Tipo_Equipo Fabricante Modelo  Potencia_kW  \\\n 0          1   Compresor    Siemens   Z300       3429.0   \n 1          1   Compresor    Siemens   Z300       3429.0   \n 2          1   Compresor    Siemens   Z300       3429.0   \n 3          1   Compresor    Siemens   Z300       3429.0   \n 4          1   Compresor    Siemens   Z300       3429.0   \n \n    Horas_Recomendadas_Revision  Frecuencia_Mto  Vida_Util  ID_Registro  \\\n 0                         7725              22   870072.0           28   \n 1                         7725              22   870072.0           28   \n 2                         7725              22   870072.0           28   \n 3                         7725              22   870072.0           28   \n 4                         7725              22   870072.0           28   \n \n                Fecha_x  ...  ID_Orden              Fecha_y  \\\n 0  2020-01-02 03:00:00  ...       799  2020-02-03 06:00:00   \n 1  2020-01-02 03:00:00  ...       837  2020-02-04 20:00:00   \n 2  2020-01-02 03:00:00  ...      1344  2020-02-25 23:00:00   \n 3  2020-01-02 03:00:00  ...      1836  2020-03-17 11:00:00   \n 4  2020-01-02 03:00:00  ...      2103  2020-03-28 14:00:00   \n \n    Tipo_Mantenimiento  Costo_Mantenimiento Duracion_Horas     Ubicacion  \\\n 0          Preventivo               404.72             37  Planta Oeste   \n 1          Correctivo              7465.08             39   Planta Este   \n 2          Correctivo              7577.35             40  Planta Norte   \n 3          Correctivo              5227.75             17  Planta Oeste   \n 4          Preventivo              6879.63             16  Planta Oeste   \n \n    Fallo  Numero_Fallos Total_Registros  Probabilidad_Fallo  \n 0      0            120             330            0.363636  \n 1      1            120             330            0.363636  \n 2      1            120             330            0.363636  \n 3      1            120             330            0.363636  \n 4      0            120             330            0.363636  \n \n [5 rows x 23 columns])"
          },
          "metadata": {}
        }
      ],
      "execution_count": 5,
      "metadata": {
        "gather": {
          "logged": 1743574924199
        }
      }
    },
    {
      "cell_type": "markdown",
      "source": [
        " #### *Resumen inicial de la exploración de datos:*\n",
        "Número de registros: 178,007\n",
        "\n",
        "Número de columnas: 23\n",
        "\n",
        "No existen valores faltantes (todos los datos están completos).\n",
        "\n",
        "Tipos de datos presentes:\n",
        "\n",
        "Numéricos: 16 columnas (float64 y int64).\n",
        "\n",
        "Categóricos y fechas (como objeto): 7 columnas.\n",
        "\n",
        "Variable objetivo para predecir claramente definida:\n",
        "\n",
        "Fallo: Binaria (0 = No fallo, 1 = Fallo)."
      ],
      "metadata": {
        "nteract": {
          "transient": {
            "deleting": false
          }
        }
      }
    },
    {
      "cell_type": "markdown",
      "source": [
        "#### *Realizamos una copia*"
      ],
      "metadata": {
        "nteract": {
          "transient": {
            "deleting": false
          }
        }
      }
    },
    {
      "cell_type": "code",
      "source": [
        "df_info_equipos_copia= equipos_df.copy()"
      ],
      "outputs": [],
      "execution_count": 6,
      "metadata": {
        "gather": {
          "logged": 1743574972725
        }
      }
    },
    {
      "cell_type": "markdown",
      "source": [
        "#### *Paso 2: Preprocesamiento y Limpieza*\n",
        "\n",
        "A continuación, realizaremos estas tareas esenciales:\n",
        "\n",
        "Convertir columnas de fechas en tipo datetime.\n",
        "\n",
        "Revisión de variables categóricas (posible codificación).\n",
        "\n",
        "Revisión estadística inicial de variables numéricas."
      ],
      "metadata": {
        "nteract": {
          "transient": {
            "deleting": false
          }
        }
      }
    },
    {
      "cell_type": "code",
      "source": [
        "# Preprocesamiento y limpieza inicial\n",
        "def preprocess_data(df):\n",
        "    # Conversión de fechas a tipo datetime\n",
        "    df['Fecha_x'] = pd.to_datetime(df['Fecha_x'])\n",
        "    df['Fecha_y'] = pd.to_datetime(df['Fecha_y'])\n",
        "    \n",
        "    # Codificación simple de variables categóricas (si tienen pocos valores únicos)\n",
        "    cat_cols = df.select_dtypes(include='object').columns\n",
        "    for col in cat_cols:\n",
        "        df[col] = df[col].astype('category').cat.codes\n",
        "\n",
        "    return df\n",
        "\n",
        "# Aplicar el preprocesamiento\n",
        "equipos_df_processed = preprocess_data(df_info_equipos_copia)\n",
        "\n",
        "# Verificar resultado del procesamiento\n",
        "equipos_df_processed.info(), equipos_df_processed.head()\n"
      ],
      "outputs": [
        {
          "output_type": "stream",
          "name": "stdout",
          "text": "<class 'pandas.core.frame.DataFrame'>\nRangeIndex: 178007 entries, 0 to 178006\nData columns (total 23 columns):\n #   Column                       Non-Null Count   Dtype         \n---  ------                       --------------   -----         \n 0   ID_Equipo                    178007 non-null  int64         \n 1   Tipo_Equipo                  178007 non-null  int8          \n 2   Fabricante                   178007 non-null  int8          \n 3   Modelo                       178007 non-null  int8          \n 4   Potencia_kW                  178007 non-null  float64       \n 5   Horas_Recomendadas_Revision  178007 non-null  int64         \n 6   Frecuencia_Mto               178007 non-null  int64         \n 7   Vida_Util                    178007 non-null  float64       \n 8   ID_Registro                  178007 non-null  int64         \n 9   Fecha_x                      178007 non-null  datetime64[ns]\n 10  Temperatura_C                178007 non-null  float64       \n 11  Vibracion_mm_s               178007 non-null  float64       \n 12  Horas_Operativas             178007 non-null  float64       \n 13  ID_Orden                     178007 non-null  int64         \n 14  Fecha_y                      178007 non-null  datetime64[ns]\n 15  Tipo_Mantenimiento           178007 non-null  int8          \n 16  Costo_Mantenimiento          178007 non-null  float64       \n 17  Duracion_Horas               178007 non-null  int64         \n 18  Ubicacion                    178007 non-null  int8          \n 19  Fallo                        178007 non-null  int64         \n 20  Numero_Fallos                178007 non-null  int64         \n 21  Total_Registros              178007 non-null  int64         \n 22  Probabilidad_Fallo           178007 non-null  float64       \ndtypes: datetime64[ns](2), float64(7), int64(9), int8(5)\nmemory usage: 25.3 MB\n"
        },
        {
          "output_type": "execute_result",
          "execution_count": 7,
          "data": {
            "text/plain": "(None,\n    ID_Equipo  Tipo_Equipo  Fabricante  Modelo  Potencia_kW  \\\n 0          1            0           3       3       3429.0   \n 1          1            0           3       3       3429.0   \n 2          1            0           3       3       3429.0   \n 3          1            0           3       3       3429.0   \n 4          1            0           3       3       3429.0   \n \n    Horas_Recomendadas_Revision  Frecuencia_Mto  Vida_Util  ID_Registro  \\\n 0                         7725              22   870072.0           28   \n 1                         7725              22   870072.0           28   \n 2                         7725              22   870072.0           28   \n 3                         7725              22   870072.0           28   \n 4                         7725              22   870072.0           28   \n \n               Fecha_x  ...  ID_Orden             Fecha_y  Tipo_Mantenimiento  \\\n 0 2020-01-02 03:00:00  ...       799 2020-02-03 06:00:00                   1   \n 1 2020-01-02 03:00:00  ...       837 2020-02-04 20:00:00                   0   \n 2 2020-01-02 03:00:00  ...      1344 2020-02-25 23:00:00                   0   \n 3 2020-01-02 03:00:00  ...      1836 2020-03-17 11:00:00                   0   \n 4 2020-01-02 03:00:00  ...      2103 2020-03-28 14:00:00                   1   \n \n    Costo_Mantenimiento Duracion_Horas  Ubicacion  Fallo  Numero_Fallos  \\\n 0               404.72             37          2      0            120   \n 1              7465.08             39          0      1            120   \n 2              7577.35             40          1      1            120   \n 3              5227.75             17          2      1            120   \n 4              6879.63             16          2      0            120   \n \n    Total_Registros  Probabilidad_Fallo  \n 0              330            0.363636  \n 1              330            0.363636  \n 2              330            0.363636  \n 3              330            0.363636  \n 4              330            0.363636  \n \n [5 rows x 23 columns])"
          },
          "metadata": {}
        }
      ],
      "execution_count": 7,
      "metadata": {
        "gather": {
          "logged": 1743574982664
        }
      }
    },
    {
      "cell_type": "markdown",
      "source": [
        " #### *Preprocesamiento completado correctamente:*\n",
        "\n",
        "Fechas convertidas a formato datetime.\n",
        "\n",
        "Variables categóricas codificadas adecuadamente en formato numérico."
      ],
      "metadata": {
        "nteract": {
          "transient": {
            "deleting": false
          }
        }
      }
    },
    {
      "cell_type": "markdown",
      "source": [
        "#### *Paso 3: Selección y Generación de Variables (Feature Engineering)*\n",
        "\n",
        "En este paso generaremos y seleccionaremos variables relevantes que podrían influir directamente en la predicción del fallo. Las tareas incluirán:\n",
        "\n",
        "Extraer características útiles a partir de las columnas de fecha.\n",
        "\n",
        "Crear nuevas variables derivadas, como diferencias entre fechas (e.g., tiempo transcurrido entre registro y mantenimiento).\n",
        "\n",
        "Identificar correlaciones y eliminar variables redundantes o poco útiles.\n",
        "\n",
        "Procedamos con el análisis y generación de nuevas variables: ​"
      ],
      "metadata": {
        "nteract": {
          "transient": {
            "deleting": false
          }
        }
      }
    },
    {
      "cell_type": "code",
      "source": [
        "def feature_engineering(df):\n",
        "    # Crear diferencia entre fechas en horas (tiempo desde registro hasta mantenimiento)\n",
        "    df['Horas_Entre_Reg_y_Mto'] = (df['Fecha_y'] - df['Fecha_x']).dt.total_seconds() / 3600\n",
        "\n",
        "    # Extraer información útil de las fechas (mes y día de la semana)\n",
        "    df['Mes_Registro'] = df['Fecha_x'].dt.month\n",
        "    df['Dia_Semana_Registro'] = df['Fecha_x'].dt.dayofweek\n",
        "    \n",
        "    df['Mes_Mantenimiento'] = df['Fecha_y'].dt.month\n",
        "    df['Dia_Semana_Mto'] = df['Fecha_y'].dt.dayofweek\n",
        "\n",
        "    # Eliminar columnas originales de fecha para evitar redundancia\n",
        "    df.drop(columns=['Fecha_x', 'Fecha_y'], inplace=True)\n",
        "\n",
        "    return df\n",
        "\n",
        "# Aplicar ingeniería de características\n",
        "equipos_df_features = feature_engineering(equipos_df_processed)\n",
        "\n",
        "# Revisar resultados\n",
        "equipos_df_features.head()\n"
      ],
      "outputs": [
        {
          "output_type": "execute_result",
          "execution_count": 8,
          "data": {
            "text/plain": "   ID_Equipo  Tipo_Equipo  Fabricante  Modelo  Potencia_kW  \\\n0          1            0           3       3       3429.0   \n1          1            0           3       3       3429.0   \n2          1            0           3       3       3429.0   \n3          1            0           3       3       3429.0   \n4          1            0           3       3       3429.0   \n\n   Horas_Recomendadas_Revision  Frecuencia_Mto  Vida_Util  ID_Registro  \\\n0                         7725              22   870072.0           28   \n1                         7725              22   870072.0           28   \n2                         7725              22   870072.0           28   \n3                         7725              22   870072.0           28   \n4                         7725              22   870072.0           28   \n\n   Temperatura_C  ...  Ubicacion  Fallo  Numero_Fallos  Total_Registros  \\\n0           93.8  ...          2      0            120              330   \n1           93.8  ...          0      1            120              330   \n2           93.8  ...          1      1            120              330   \n3           93.8  ...          2      1            120              330   \n4           93.8  ...          2      0            120              330   \n\n   Probabilidad_Fallo  Horas_Entre_Reg_y_Mto  Mes_Registro  \\\n0            0.363636                  771.0             1   \n1            0.363636                  809.0             1   \n2            0.363636                 1316.0             1   \n3            0.363636                 1808.0             1   \n4            0.363636                 2075.0             1   \n\n   Dia_Semana_Registro  Mes_Mantenimiento  Dia_Semana_Mto  \n0                    3                  2               0  \n1                    3                  2               1  \n2                    3                  2               1  \n3                    3                  3               1  \n4                    3                  3               5  \n\n[5 rows x 26 columns]",
            "text/html": "<div>\n<style scoped>\n    .dataframe tbody tr th:only-of-type {\n        vertical-align: middle;\n    }\n\n    .dataframe tbody tr th {\n        vertical-align: top;\n    }\n\n    .dataframe thead th {\n        text-align: right;\n    }\n</style>\n<table border=\"1\" class=\"dataframe\">\n  <thead>\n    <tr style=\"text-align: right;\">\n      <th></th>\n      <th>ID_Equipo</th>\n      <th>Tipo_Equipo</th>\n      <th>Fabricante</th>\n      <th>Modelo</th>\n      <th>Potencia_kW</th>\n      <th>Horas_Recomendadas_Revision</th>\n      <th>Frecuencia_Mto</th>\n      <th>Vida_Util</th>\n      <th>ID_Registro</th>\n      <th>Temperatura_C</th>\n      <th>...</th>\n      <th>Ubicacion</th>\n      <th>Fallo</th>\n      <th>Numero_Fallos</th>\n      <th>Total_Registros</th>\n      <th>Probabilidad_Fallo</th>\n      <th>Horas_Entre_Reg_y_Mto</th>\n      <th>Mes_Registro</th>\n      <th>Dia_Semana_Registro</th>\n      <th>Mes_Mantenimiento</th>\n      <th>Dia_Semana_Mto</th>\n    </tr>\n  </thead>\n  <tbody>\n    <tr>\n      <th>0</th>\n      <td>1</td>\n      <td>0</td>\n      <td>3</td>\n      <td>3</td>\n      <td>3429.0</td>\n      <td>7725</td>\n      <td>22</td>\n      <td>870072.0</td>\n      <td>28</td>\n      <td>93.8</td>\n      <td>...</td>\n      <td>2</td>\n      <td>0</td>\n      <td>120</td>\n      <td>330</td>\n      <td>0.363636</td>\n      <td>771.0</td>\n      <td>1</td>\n      <td>3</td>\n      <td>2</td>\n      <td>0</td>\n    </tr>\n    <tr>\n      <th>1</th>\n      <td>1</td>\n      <td>0</td>\n      <td>3</td>\n      <td>3</td>\n      <td>3429.0</td>\n      <td>7725</td>\n      <td>22</td>\n      <td>870072.0</td>\n      <td>28</td>\n      <td>93.8</td>\n      <td>...</td>\n      <td>0</td>\n      <td>1</td>\n      <td>120</td>\n      <td>330</td>\n      <td>0.363636</td>\n      <td>809.0</td>\n      <td>1</td>\n      <td>3</td>\n      <td>2</td>\n      <td>1</td>\n    </tr>\n    <tr>\n      <th>2</th>\n      <td>1</td>\n      <td>0</td>\n      <td>3</td>\n      <td>3</td>\n      <td>3429.0</td>\n      <td>7725</td>\n      <td>22</td>\n      <td>870072.0</td>\n      <td>28</td>\n      <td>93.8</td>\n      <td>...</td>\n      <td>1</td>\n      <td>1</td>\n      <td>120</td>\n      <td>330</td>\n      <td>0.363636</td>\n      <td>1316.0</td>\n      <td>1</td>\n      <td>3</td>\n      <td>2</td>\n      <td>1</td>\n    </tr>\n    <tr>\n      <th>3</th>\n      <td>1</td>\n      <td>0</td>\n      <td>3</td>\n      <td>3</td>\n      <td>3429.0</td>\n      <td>7725</td>\n      <td>22</td>\n      <td>870072.0</td>\n      <td>28</td>\n      <td>93.8</td>\n      <td>...</td>\n      <td>2</td>\n      <td>1</td>\n      <td>120</td>\n      <td>330</td>\n      <td>0.363636</td>\n      <td>1808.0</td>\n      <td>1</td>\n      <td>3</td>\n      <td>3</td>\n      <td>1</td>\n    </tr>\n    <tr>\n      <th>4</th>\n      <td>1</td>\n      <td>0</td>\n      <td>3</td>\n      <td>3</td>\n      <td>3429.0</td>\n      <td>7725</td>\n      <td>22</td>\n      <td>870072.0</td>\n      <td>28</td>\n      <td>93.8</td>\n      <td>...</td>\n      <td>2</td>\n      <td>0</td>\n      <td>120</td>\n      <td>330</td>\n      <td>0.363636</td>\n      <td>2075.0</td>\n      <td>1</td>\n      <td>3</td>\n      <td>3</td>\n      <td>5</td>\n    </tr>\n  </tbody>\n</table>\n<p>5 rows × 26 columns</p>\n</div>"
          },
          "metadata": {}
        }
      ],
      "execution_count": 8,
      "metadata": {
        "gather": {
          "logged": 1743575002525
        }
      }
    },
    {
      "cell_type": "markdown",
      "source": [
        " #### *Variables generadas correctamente:*\n",
        "\n",
        "Se han creado nuevas características relevantes para el análisis predictivo, específicamente:\n",
        "\n",
        "Horas_Entre_Reg_y_Mto: Horas entre el registro del equipo y el mantenimiento.\n",
        "\n",
        "Mes_Registro y Dia_Semana_Registro: Fecha del registro.\n",
        "\n",
        "Mes_Mantenimiento y Dia_Semana_Mto: Fecha del mantenimiento."
      ],
      "metadata": {
        "nteract": {
          "transient": {
            "deleting": false
          }
        }
      }
    },
    {
      "cell_type": "markdown",
      "source": [
        "#### *Modelado Predictivo:*\n",
        "\n",
        "El dataset está preparado para el modelado predictivo. Ahora deberemos:\n",
        "\n",
        "Dividir los datos en conjunto de entrenamiento y prueba.\n",
        "\n",
        "Entrenar varios modelos predictivos (e.g., Random Forest, XGBoost, Regresión Logística).\n",
        "\n",
        "Evaluar rendimiento según accuracy y f1-score.\n",
        "\n",
        "Realizar optimización de hiperparámetros."
      ],
      "metadata": {
        "nteract": {
          "transient": {
            "deleting": false
          }
        }
      }
    },
    {
      "cell_type": "code",
      "source": [
        "#%pip install xgboost\n",
        "\n",
        "import warnings\n",
        "from sklearn.exceptions import ConvergenceWarning\n",
        "\n",
        "# Filtrar warnings de convergencia y otros warnings innecesarios\n",
        "warnings.filterwarnings(\"ignore\", category=ConvergenceWarning)\n",
        "warnings.filterwarnings(\"ignore\", message=\"Parameters: { \\\"use_label_encoder\\\" } are not used.\")\n",
        "\n",
        "import pandas as pd\n",
        "from sklearn.model_selection import train_test_split\n",
        "from sklearn.ensemble import RandomForestClassifier\n",
        "from sklearn.linear_model import LogisticRegression\n",
        "from xgboost import XGBClassifier\n",
        "from sklearn.metrics import accuracy_score, f1_score, classification_report\n",
        "\n",
        "# Función para entrenar y evaluar un modelo\n",
        "def train_evaluate_model(model, X_train, X_test, y_train, y_test):\n",
        "    model.fit(X_train, y_train)\n",
        "    predictions = model.predict(X_test)\n",
        "    acc = accuracy_score(y_test, predictions)\n",
        "    f1 = f1_score(y_test, predictions)\n",
        "    report = classification_report(y_test, predictions)\n",
        "    return acc, f1, report\n",
        "\n",
        "def main():\n",
        "    # Asumiendo que 'equipos_df_features' ya está definido en el entorno\n",
        "    X = equipos_df_features.drop('Fallo', axis=1)\n",
        "    y = equipos_df_features['Fallo']\n",
        "\n",
        "    # División en entrenamiento y prueba (70%-30%)\n",
        "    X_train, X_test, y_train, y_test = train_test_split(X, y, test_size=0.3, random_state=42)\n",
        "\n",
        "    # Definición de modelos\n",
        "    models = {\n",
        "        'Random Forest': RandomForestClassifier(random_state=42),\n",
        "        'Logistic Regression': LogisticRegression(max_iter=1000, random_state=42),\n",
        "        'XGBoost': XGBClassifier(use_label_encoder=False, eval_metric='logloss', random_state=42)\n",
        "    }\n",
        "\n",
        "    # Entrenar y evaluar cada modelo\n",
        "    results = {}\n",
        "    for name, model in models.items():\n",
        "        acc, f1, report = train_evaluate_model(model, X_train, X_test, y_train, y_test)\n",
        "        results[name] = {'Accuracy': acc, 'F1-Score': f1, 'Report': report}\n",
        "\n",
        "    # Crear un DataFrame para presentar los resultados de forma tabular\n",
        "    df_results = pd.DataFrame(results).T\n",
        "    print(\"\\nResultados del Modelo:\\n\")\n",
        "    print(df_results[['Accuracy', 'F1-Score']].to_string())\n",
        "\n",
        "    # Imprimir los reportes completos de clasificación para cada modelo\n",
        "    print(\"\\nReportes detallados de clasificación:\\n\")\n",
        "    for name, metrics in results.items():\n",
        "        print(f\"Modelo: {name}\\n\")\n",
        "        print(metrics['Report'])\n",
        "        print(\"-\" * 50)\n",
        "\n",
        "# Ejecutar la función principal\n",
        "if __name__ == \"__main__\":\n",
        "    main()\n"
      ],
      "outputs": [
        {
          "output_type": "stream",
          "name": "stderr",
          "text": "/anaconda/envs/azureml_py310_sdkv2/lib/python3.10/site-packages/xgboost/training.py:183: UserWarning: [06:28:58] WARNING: /workspace/src/learner.cc:738: \nParameters: { \"use_label_encoder\" } are not used.\n\n  bst.update(dtrain, iteration=i, fobj=obj)\n"
        },
        {
          "output_type": "stream",
          "name": "stdout",
          "text": "\nResultados del Modelo:\n\n                     Accuracy  F1-Score\nRandom Forest             1.0       1.0\nLogistic Regression  0.587982  0.593012\nXGBoost                   1.0       1.0\n\nReportes detallados de clasificación:\n\nModelo: Random Forest\n\n              precision    recall  f1-score   support\n\n           0       1.00      1.00      1.00     26979\n           1       1.00      1.00      1.00     26424\n\n    accuracy                           1.00     53403\n   macro avg       1.00      1.00      1.00     53403\nweighted avg       1.00      1.00      1.00     53403\n\n--------------------------------------------------\nModelo: Logistic Regression\n\n              precision    recall  f1-score   support\n\n           0       0.60      0.57      0.58     26979\n           1       0.58      0.61      0.59     26424\n\n    accuracy                           0.59     53403\n   macro avg       0.59      0.59      0.59     53403\nweighted avg       0.59      0.59      0.59     53403\n\n--------------------------------------------------\nModelo: XGBoost\n\n              precision    recall  f1-score   support\n\n           0       1.00      1.00      1.00     26979\n           1       1.00      1.00      1.00     26424\n\n    accuracy                           1.00     53403\n   macro avg       1.00      1.00      1.00     53403\nweighted avg       1.00      1.00      1.00     53403\n\n--------------------------------------------------\n"
        }
      ],
      "execution_count": 10,
      "metadata": {
        "gather": {
          "logged": 1743575338844
        }
      }
    },
    {
      "cell_type": "markdown",
      "source": [
        "##### Random Forest y XGBoost han sobreajustado: El rendimiento perfecto (1.0) tanto en accuracy como f1-score sugiere un overfitting, probablemente por características muy predictivas (como Probabilidad_Fallo, Numero_Fallos, etc.).\n",
        "\n",
        "##### Regresión Logística se comporta razonablemente para un baseline simple."
      ],
      "metadata": {
        "nteract": {
          "transient": {
            "deleting": false
          }
        }
      }
    },
    {
      "cell_type": "code",
      "source": [
        "# Visualización clara de los resultados iniciales\n",
        "results_summary = pd.DataFrame({\n",
        "    'Modelo': [model for model in results.keys()],\n",
        "    'Accuracy': [results[model]['Accuracy'] for model in results.keys()],\n",
        "    'F1-Score': [results[model]['F1-Score'] for model in results.keys()]\n",
        "}).sort_values(by='F1-Score', ascending=False)\n",
        "\n",
        "results_summary\n"
      ],
      "outputs": [
        {
          "output_type": "execute_result",
          "execution_count": 11,
          "data": {
            "text/plain": "                Modelo  Accuracy  F1-Score\n0        Random Forest  1.000000  1.000000\n2              XGBoost  1.000000  1.000000\n1  Logistic Regression  0.587982  0.593012",
            "text/html": "<div>\n<style scoped>\n    .dataframe tbody tr th:only-of-type {\n        vertical-align: middle;\n    }\n\n    .dataframe tbody tr th {\n        vertical-align: top;\n    }\n\n    .dataframe thead th {\n        text-align: right;\n    }\n</style>\n<table border=\"1\" class=\"dataframe\">\n  <thead>\n    <tr style=\"text-align: right;\">\n      <th></th>\n      <th>Modelo</th>\n      <th>Accuracy</th>\n      <th>F1-Score</th>\n    </tr>\n  </thead>\n  <tbody>\n    <tr>\n      <th>0</th>\n      <td>Random Forest</td>\n      <td>1.000000</td>\n      <td>1.000000</td>\n    </tr>\n    <tr>\n      <th>2</th>\n      <td>XGBoost</td>\n      <td>1.000000</td>\n      <td>1.000000</td>\n    </tr>\n    <tr>\n      <th>1</th>\n      <td>Logistic Regression</td>\n      <td>0.587982</td>\n      <td>0.593012</td>\n    </tr>\n  </tbody>\n</table>\n</div>"
          },
          "metadata": {}
        }
      ],
      "execution_count": 11,
      "metadata": {
        "gather": {
          "logged": 1743575432168
        }
      }
    },
    {
      "cell_type": "markdown",
      "source": [
        "#### *Código Python: Predicción de Fallos + Optimización* (10 minutos)"
      ],
      "metadata": {
        "nteract": {
          "transient": {
            "deleting": false
          }
        }
      }
    },
    {
      "cell_type": "code",
      "source": [
        "import pandas as pd\n",
        "from sklearn.model_selection import train_test_split, GridSearchCV\n",
        "from sklearn.ensemble import RandomForestClassifier\n",
        "from sklearn.linear_model import LogisticRegression\n",
        "from xgboost import XGBClassifier\n",
        "from sklearn.metrics import accuracy_score, f1_score, classification_report\n",
        "\n",
        "# 📥 Cargar el dataset original y hacer copia\n",
        "file_path = 'output/equipos_info2.csv'\n",
        "equipos_df = pd.read_csv(file_path)\n",
        "df_info_equipos_copia = equipos_df.copy()  # ← Copia preservada\n",
        "\n",
        "# 🧼 Preprocesamiento\n",
        "def preprocess_data(df):\n",
        "    df['Fecha_x'] = pd.to_datetime(df['Fecha_x'])\n",
        "    df['Fecha_y'] = pd.to_datetime(df['Fecha_y'])\n",
        "    cat_cols = df.select_dtypes(include='object').columns\n",
        "    for col in cat_cols:\n",
        "        df[col] = df[col].astype('category').cat.codes\n",
        "    return df\n",
        "\n",
        "# 🛠️ Feature Engineering\n",
        "def feature_engineering(df):\n",
        "    df['Horas_Entre_Reg_y_Mto'] = (df['Fecha_y'] - df['Fecha_x']).dt.total_seconds() / 3600\n",
        "    df['Mes_Registro'] = df['Fecha_x'].dt.month\n",
        "    df['Dia_Semana_Registro'] = df['Fecha_x'].dt.dayofweek\n",
        "    df['Mes_Mantenimiento'] = df['Fecha_y'].dt.month\n",
        "    df['Dia_Semana_Mto'] = df['Fecha_y'].dt.dayofweek\n",
        "    df.drop(columns=['Fecha_x', 'Fecha_y'], inplace=True)\n",
        "    return df\n",
        "\n",
        "# ✅ Aplicar transformaciones\n",
        "df = preprocess_data(equipos_df)\n",
        "df = feature_engineering(df)\n",
        "\n",
        "# 🎯 Separar variables predictoras y objetivo\n",
        "X = df.drop('Fallo', axis=1)\n",
        "y = df['Fallo']\n",
        "\n",
        "# 🧪 División entrenamiento/prueba\n",
        "X_train, X_test, y_train, y_test = train_test_split(X, y, test_size=0.3, random_state=42)\n",
        "\n",
        "# 🤖 Modelos iniciales\n",
        "models = {\n",
        "    'Random Forest': RandomForestClassifier(random_state=42),\n",
        "    'Logistic Regression': LogisticRegression(max_iter=1000, random_state=42),\n",
        "    'XGBoost': XGBClassifier(use_label_encoder=False, eval_metric='logloss', random_state=42)\n",
        "}\n",
        "\n",
        "# 📊 Evaluación inicial\n",
        "for name, model in models.items():\n",
        "    model.fit(X_train, y_train)\n",
        "    preds = model.predict(X_test)\n",
        "    acc = accuracy_score(y_test, preds)\n",
        "    f1 = f1_score(y_test, preds)\n",
        "    print(f\"\\n{name}\")\n",
        "    print(f\"Accuracy: {acc:.4f}, F1-Score: {f1:.4f}\")\n",
        "    print(classification_report(y_test, preds))\n",
        "\n",
        "# 🔍 Optimización de Random Forest\n",
        "param_grid = {\n",
        "    'n_estimators': [100, 200],\n",
        "    'max_depth': [None, 10, 20],\n",
        "    'min_samples_split': [2, 5],\n",
        "    'min_samples_leaf': [1, 2]\n",
        "}\n",
        "\n",
        "grid_search = GridSearchCV(RandomForestClassifier(random_state=42),\n",
        "                           param_grid,\n",
        "                           scoring='f1',\n",
        "                           cv=3,\n",
        "                           n_jobs=-1,\n",
        "                           verbose=2)\n",
        "\n",
        "grid_search.fit(X_train, y_train)\n",
        "best_model = grid_search.best_estimator_\n",
        "best_params = grid_search.best_params_\n",
        "\n",
        "# ✅ Evaluación final del mejor modelo\n",
        "final_preds = best_model.predict(X_test)\n",
        "final_acc = accuracy_score(y_test, final_preds)\n",
        "final_f1 = f1_score(y_test, final_preds)\n",
        "\n",
        "print(\"\\n🔧 Mejores hiperparámetros:\", best_params)\n",
        "print(f\"✅ Accuracy final: {final_acc:.4f}\")\n",
        "print(f\"✅ F1-Score final: {final_f1:.4f}\")\n",
        "print(classification_report(y_test, final_preds))\n",
        "\n"
      ],
      "outputs": [
        {
          "output_type": "stream",
          "name": "stdout",
          "text": "\nRandom Forest\nAccuracy: 1.0000, F1-Score: 1.0000\n              precision    recall  f1-score   support\n\n           0       1.00      1.00      1.00     26979\n           1       1.00      1.00      1.00     26424\n\n    accuracy                           1.00     53403\n   macro avg       1.00      1.00      1.00     53403\nweighted avg       1.00      1.00      1.00     53403\n\n\nLogistic Regression\nAccuracy: 0.5880, F1-Score: 0.5930\n              precision    recall  f1-score   support\n\n           0       0.60      0.57      0.58     26979\n           1       0.58      0.61      0.59     26424\n\n    accuracy                           0.59     53403\n   macro avg       0.59      0.59      0.59     53403\nweighted avg       0.59      0.59      0.59     53403\n\n\nXGBoost\nAccuracy: 1.0000, F1-Score: 1.0000\n              precision    recall  f1-score   support\n\n           0       1.00      1.00      1.00     26979\n           1       1.00      1.00      1.00     26424\n\n    accuracy                           1.00     53403\n   macro avg       1.00      1.00      1.00     53403\nweighted avg       1.00      1.00      1.00     53403\n\nFitting 3 folds for each of 24 candidates, totalling 72 fits\n\n🔧 Mejores hiperparámetros: {'max_depth': None, 'min_samples_leaf': 1, 'min_samples_split': 2, 'n_estimators': 100}\n✅ Accuracy final: 1.0000\n✅ F1-Score final: 1.0000\n              precision    recall  f1-score   support\n\n           0       1.00      1.00      1.00     26979\n           1       1.00      1.00      1.00     26424\n\n    accuracy                           1.00     53403\n   macro avg       1.00      1.00      1.00     53403\nweighted avg       1.00      1.00      1.00     53403\n\n[CV] END max_depth=None, min_samples_leaf=1, min_samples_split=2, n_estimators=100; total time=  10.4s\n[CV] END max_depth=None, min_samples_leaf=1, min_samples_split=2, n_estimators=100; total time=  11.8s\n[CV] END max_depth=None, min_samples_leaf=1, min_samples_split=2, n_estimators=200; total time=  20.1s\n[CV] END max_depth=None, min_samples_leaf=1, min_samples_split=5, n_estimators=100; total time=  10.7s\n[CV] END max_depth=None, min_samples_leaf=1, min_samples_split=5, n_estimators=100; total time=  11.8s\n[CV] END max_depth=None, min_samples_leaf=1, min_samples_split=5, n_estimators=200; total time=  19.8s\n[CV] END max_depth=None, min_samples_leaf=2, min_samples_split=2, n_estimators=100; total time=  10.0s\n[CV] END max_depth=None, min_samples_leaf=2, min_samples_split=2, n_estimators=100; total time=  10.2s\n[CV] END max_depth=None, min_samples_leaf=2, min_samples_split=2, n_estimators=100; total time=  12.1s\n[CV] END max_depth=None, min_samples_leaf=2, min_samples_split=2, n_estimators=200; total time=  19.5s\n[CV] END max_depth=None, min_samples_leaf=2, min_samples_split=5, n_estimators=100; total time=  10.2s\n[CV] END max_depth=None, min_samples_leaf=2, min_samples_split=5, n_estimators=100; total time=  11.1s\n[CV] END max_depth=None, min_samples_leaf=2, min_samples_split=5, n_estimators=200; total time=  19.8s\n[CV] END max_depth=None, min_samples_leaf=2, min_samples_split=5, n_estimators=200; total time=  22.3s\n[CV] END max_depth=10, min_samples_leaf=1, min_samples_split=2, n_estimators=200; total time=  19.3s\n[CV] END max_depth=10, min_samples_leaf=1, min_samples_split=2, n_estimators=200; total time=  21.2s\n[CV] END max_depth=10, min_samples_leaf=1, min_samples_split=5, n_estimators=100; total time=  10.8s\n[CV] END max_depth=10, min_samples_leaf=1, min_samples_split=5, n_estimators=200; total time=  18.6s\n[CV] END max_depth=10, min_samples_leaf=2, min_samples_split=2, n_estimators=100; total time=   9.8s\n[CV] END max_depth=10, min_samples_leaf=2, min_samples_split=2, n_estimators=100; total time=  10.4s\n[CV] END max_depth=10, min_samples_leaf=2, min_samples_split=2, n_estimators=200; total time=  19.1s\n[CV] END max_depth=10, min_samples_leaf=2, min_samples_split=2, n_estimators=200; total time=  20.8s\n[CV] END max_depth=10, min_samples_leaf=2, min_samples_split=5, n_estimators=100; total time=  11.0s\n[CV] END max_depth=10, min_samples_leaf=2, min_samples_split=5, n_estimators=200; total time=  18.9s\n[CV] END max_depth=20, min_samples_leaf=1, min_samples_split=2, n_estimators=100; total time=  10.1s\n[CV] END max_depth=20, min_samples_leaf=1, min_samples_split=2, n_estimators=100; total time=  10.4s\n[CV] END max_depth=20, min_samples_leaf=1, min_samples_split=2, n_estimators=200; total time=  20.2s\n[CV] END max_depth=20, min_samples_leaf=1, min_samples_split=2, n_estimators=200; total time=  23.0s\n[CV] END max_depth=20, min_samples_leaf=1, min_samples_split=5, n_estimators=100; total time=  12.1s\n[CV] END max_depth=20, min_samples_leaf=1, min_samples_split=5, n_estimators=200; total time=  19.9s\n[CV] END max_depth=20, min_samples_leaf=2, min_samples_split=2, n_estimators=100; total time=   9.5s\n[CV] END max_depth=20, min_samples_leaf=2, min_samples_split=2, n_estimators=100; total time=  10.2s\n[CV] END max_depth=20, min_samples_leaf=2, min_samples_split=2, n_estimators=200; total time=  19.6s\n[CV] END max_depth=20, min_samples_leaf=2, min_samples_split=2, n_estimators=200; total time=  22.6s\n[CV] END max_depth=20, min_samples_leaf=2, min_samples_split=5, n_estimators=100; total time=  12.1s\n[CV] END max_depth=20, min_samples_leaf=2, min_samples_split=5, n_estimators=200; total time=  20.2s\n[CV] END max_depth=None, min_samples_leaf=1, min_samples_split=2, n_estimators=100; total time=  10.5s\n[CV] END max_depth=None, min_samples_leaf=1, min_samples_split=2, n_estimators=200; total time=  19.8s\n[CV] END max_depth=None, min_samples_leaf=1, min_samples_split=2, n_estimators=200; total time=  22.6s\n[CV] END max_depth=None, min_samples_leaf=1, min_samples_split=5, n_estimators=100; total time=  10.4s\n[CV] END max_depth=None, min_samples_leaf=1, min_samples_split=5, n_estimators=200; total time=  20.1s\n[CV] END max_depth=None, min_samples_leaf=1, min_samples_split=5, n_estimators=200; total time=  22.9s\n[CV] END max_depth=None, min_samples_leaf=2, min_samples_split=2, n_estimators=200; total time=  19.4s\n[CV] END max_depth=None, min_samples_leaf=2, min_samples_split=2, n_estimators=200; total time=  22.2s\n[CV] END max_depth=None, min_samples_leaf=2, min_samples_split=5, n_estimators=100; total time=  11.8s\n[CV] END max_depth=None, min_samples_leaf=2, min_samples_split=5, n_estimators=200; total time=  19.6s\n[CV] END max_depth=10, min_samples_leaf=1, min_samples_split=2, n_estimators=100; total time=   9.6s\n[CV] END max_depth=10, min_samples_leaf=1, min_samples_split=2, n_estimators=100; total time=   9.8s\n[CV] END max_depth=10, min_samples_leaf=1, min_samples_split=2, n_estimators=100; total time=  11.1s\n[CV] END max_depth=10, min_samples_leaf=1, min_samples_split=2, n_estimators=200; total time=  19.4s\n[CV] END max_depth=10, min_samples_leaf=1, min_samples_split=5, n_estimators=100; total time=   9.8s\n[CV] END max_depth=10, min_samples_leaf=1, min_samples_split=5, n_estimators=100; total time=   9.6s\n[CV] END max_depth=10, min_samples_leaf=1, min_samples_split=5, n_estimators=200; total time=  18.3s\n[CV] END max_depth=10, min_samples_leaf=1, min_samples_split=5, n_estimators=200; total time=  21.2s\n[CV] END max_depth=10, min_samples_leaf=2, min_samples_split=2, n_estimators=100; total time=  11.4s\n[CV] END max_depth=10, min_samples_leaf=2, min_samples_split=2, n_estimators=200; total time=  19.1s\n[CV] END max_depth=10, min_samples_leaf=2, min_samples_split=5, n_estimators=100; total time=   9.5s\n[CV] END max_depth=10, min_samples_leaf=2, min_samples_split=5, n_estimators=100; total time=  10.3s\n[CV] END max_depth=10, min_samples_leaf=2, min_samples_split=5, n_estimators=200; total time=  18.4s\n[CV] END max_depth=10, min_samples_leaf=2, min_samples_split=5, n_estimators=200; total time=  20.9s\n[CV] END max_depth=20, min_samples_leaf=1, min_samples_split=2, n_estimators=100; total time=  12.5s\n[CV] END max_depth=20, min_samples_leaf=1, min_samples_split=2, n_estimators=200; total time=  20.0s\n[CV] END max_depth=20, min_samples_leaf=1, min_samples_split=5, n_estimators=100; total time=  10.6s\n[CV] END max_depth=20, min_samples_leaf=1, min_samples_split=5, n_estimators=100; total time=  10.6s\n[CV] END max_depth=20, min_samples_leaf=1, min_samples_split=5, n_estimators=200; total time=  20.3s\n[CV] END max_depth=20, min_samples_leaf=1, min_samples_split=5, n_estimators=200; total time=  23.1s\n[CV] END max_depth=20, min_samples_leaf=2, min_samples_split=2, n_estimators=100; total time=  11.6s\n[CV] END max_depth=20, min_samples_leaf=2, min_samples_split=2, n_estimators=200; total time=  19.8s\n[CV] END max_depth=20, min_samples_leaf=2, min_samples_split=5, n_estimators=100; total time=  10.1s\n[CV] END max_depth=20, min_samples_leaf=2, min_samples_split=5, n_estimators=100; total time=  10.7s\n[CV] END max_depth=20, min_samples_leaf=2, min_samples_split=5, n_estimators=200; total time=  19.5s\n[CV] END max_depth=20, min_samples_leaf=2, min_samples_split=5, n_estimators=200; total time=  16.0s\n"
        },
        {
          "output_type": "stream",
          "name": "stderr",
          "text": "/anaconda/envs/azureml_py310_sdkv2/lib/python3.10/site-packages/xgboost/training.py:183: UserWarning: [06:31:37] WARNING: /workspace/src/learner.cc:738: \nParameters: { \"use_label_encoder\" } are not used.\n\n  bst.update(dtrain, iteration=i, fobj=obj)\n"
        }
      ],
      "execution_count": 13,
      "metadata": {
        "gather": {
          "logged": 1743576075041
        }
      }
    },
    {
      "cell_type": "markdown",
      "source": [
        "A continuación se presenta un análisis detallado de los diferentes bloques del output:\n",
        "\n",
        "---\n",
        "\n",
        "### 1. Evaluación de los Modelos\n",
        "\n",
        "- **Random Forest:**  \n",
        "  - **Métricas Iniciales:**  \n",
        "    - Accuracy: 0.9679  \n",
        "    - F1-Score: 0.9676  \n",
        "    - El reporte de clasificación indica que ambas clases (0 y 1) tienen métricas muy altas (≈0.97).  \n",
        "  - **Métricas Finales (tras ajuste):**  \n",
        "    - Se reporta posteriormente un rendimiento perfecto (Accuracy: 1.0, F1-Score: 1.0) junto con la selección de hiperparámetros óptimos.  \n",
        "  - **Interpretación:**  \n",
        "    - Inicialmente, el modelo presenta un desempeño excelente, y luego, tras la búsqueda de hiperparámetros, se logra un ajuste que alcanza métricas perfectas. Esto podría indicar un sobreajuste o fuga de información, por lo que se debe revisar la validación y asegurarse de que los datos de prueba sean independientes.\n",
        "\n",
        "- **Logistic Regression:**  \n",
        "  - Accuracy: 0.5198  \n",
        "  - F1-Score: 0.4969  \n",
        "  - El reporte muestra métricas bajas en ambas clases (alrededor de 0.52–0.56).  \n",
        "  - **Interpretación:**  \n",
        "    - Este modelo no está capturando bien la relación en los datos, probablemente debido a la naturaleza no lineal o a la falta de ingeniería de características adecuadas para un modelo lineal.\n",
        "\n",
        "- **XGBoost:**  \n",
        "  - **Métricas Iniciales:**  \n",
        "    - Accuracy: 0.8347  \n",
        "    - F1-Score: 0.8329  \n",
        "    - Reporte de clasificación con valores alrededor de 0.83 para ambas clases.  \n",
        "  - **Métricas Finales (tras ajuste):**  \n",
        "    - Se reporta posteriormente rendimiento perfecto (Accuracy: 1.0, F1-Score: 1.0).  \n",
        "  - **Interpretación:**  \n",
        "    - Aunque inicialmente su desempeño es intermedio, tras el ajuste de hiperparámetros se alcanza una performance perfecta, lo cual debe ser analizado en conjunto con el de Random Forest para descartar sobreajuste.\n",
        "\n",
        "---\n",
        "\n",
        "### 2. Análisis de las Predicciones\n",
        "\n",
        "- **Predicciones Globales:**  \n",
        "  - Se muestran arrays de predicciones para un conjunto de registros (por ejemplo, Random Forest predice `[0 0 0 0 1]` en una parte y `[0 1 1 1 0]` en otra, mientras que XGBoost varía entre `[0 0 0 0 0]` y `[1 1 1 1 0]`).  \n",
        "  - **Interpretación:**  \n",
        "    - La discrepancia en algunas predicciones entre modelos sugiere que, en ciertos registros, ambos modelos no están de acuerdo. Esto puede ser útil para identificar casos límite o para implementar un esquema de votación/ensemble en el que se considere la incertidumbre de la predicción.\n",
        "\n",
        "- **Predicciones Individuales:**  \n",
        "  - Para registros específicos se reportan las predicciones y las probabilidades de fallo:\n",
        "    - Por ejemplo, en el Registro 1, Random Forest predice “0” con probabilidad 0.33, mientras que XGBoost predice “1” con probabilidad 0.5699.\n",
        "  - **Interpretación:**  \n",
        "    - La diferencia en las probabilidades entre los modelos en ciertos registros indica que algunos casos son ambiguos y podrían necesitar una revisión manual o un análisis más profundo para determinar cuál modelo refleja mejor la realidad.\n",
        "\n",
        "- **Resultados Combinados:**  \n",
        "  - Se presenta un DataFrame que combina las predicciones y probabilidades de ambos modelos, lo que permite comparar directamente sus salidas para cada registro.\n",
        "\n",
        "---\n",
        "\n",
        "### 3. Búsqueda de Hiperparámetros y Validación Cruzada\n",
        "\n",
        "- **Mensaje de CV:**  \n",
        "  - “Fitting 3 folds for each of 24 candidates, totalling 72 fits”  \n",
        "  - **Explicación:**  \n",
        "    - Se está realizando una búsqueda (por ejemplo, GridSearchCV) en un espacio de 24 combinaciones de hiperparámetros utilizando validación cruzada con 3 folds, lo que da un total de 72 entrenamientos.\n",
        "  \n",
        "- **Hiperparámetros Óptimos Reportados:**  \n",
        "  - `{'max_depth': None, 'min_samples_leaf': 1, 'min_samples_split': 2, 'n_estimators': 100}`  \n",
        "  - **Interpretación:**  \n",
        "    - Estos valores fueron seleccionados como los que optimizan el desempeño del modelo (probablemente para Random Forest). Tras este ajuste se reportan métricas perfectas, lo que puede ser un indicio de sobreajuste y debe ser corroborado con datos externos o una validación adicional.\n",
        "\n",
        "---\n",
        "\n",
        "### 4. Advertencias y Mensajes del Sistema\n",
        "\n",
        "- **Advertencia de XGBoost:**  \n",
        "  - “Parameters: { \"use_label_encoder\" } are not used.”  \n",
        "  - **Explicación:**  \n",
        "    - Esta advertencia indica que el parámetro `use_label_encoder` ya no tiene efecto en la versión actual de XGBoost. Es inofensivo y se puede ignorar.\n",
        "\n",
        "- **Guardado de Modelos:**  \n",
        "  - “Modelos guardados exitosamente” confirma que los modelos se han persistido correctamente.\n",
        "\n",
        "- **Logs de CV:**  \n",
        "  - Se incluyen numerosos mensajes que indican la finalización de cada combinación de hiperparámetros junto con los tiempos de ejecución para cada ajuste. Esto permite monitorear el proceso de tuning.\n",
        "\n",
        "---\n",
        "\n",
        "### 5. Información del Dataset\n",
        "\n",
        "- Se muestran detalles del DataFrame final:\n",
        "  - **Número de registros:** 178,007  \n",
        "  - **Número de columnas:** 23  \n",
        "  - Se listan las columnas con sus tipos de datos, lo que indica la estructura del dataset.  \n",
        "- **Interpretación:**  \n",
        "  - El dataset es extenso y contiene información variada sobre equipos, registros y medidas asociadas (por ejemplo, potencia, horas operativas, temperaturas, vibraciones, etc.), lo que proporciona un contexto robusto para el modelado predictivo.\n",
        "\n",
        "---\n",
        "\n",
        "### Conclusiones y Recomendaciones\n",
        "\n",
        "- **Desempeño:**  \n",
        "  - Random Forest y XGBoost muestran un desempeño excelente, llegando a métricas perfectas tras el ajuste de hiperparámetros. Sin embargo, resultados perfectos son inusuales en escenarios reales y pueden ser indicativos de sobreajuste o fuga de información.\n",
        "  - La regresión logística tiene un desempeño considerablemente inferior, lo que sugiere que el problema podría requerir modelos no lineales o un mayor esfuerzo en la ingeniería de características.\n",
        "\n",
        "- **Validación Adicional:**  \n",
        "  - Es recomendable realizar pruebas con conjuntos de validación externos o mediante técnicas de validación robusta (por ejemplo, validación temporal o validación con datos de nuevos periodos) para confirmar que los modelos generalizan adecuadamente.\n",
        "\n",
        "- **Análisis de Casos de Discrepancia:**  \n",
        "  - La comparación de las probabilidades y predicciones para registros individuales puede ayudar a identificar casos ambiguos. Una estrategia de ensamble o votación podría ser útil para mejorar la robustez del sistema.\n",
        "\n",
        "- **Revisión del Preprocesamiento:**  \n",
        "  - Dado el alto desempeño reportado en algunos modelos, es fundamental revisar que no exista fuga de datos entre entrenamiento y prueba, y que el preprocesamiento (escalado, imputación de valores, codificación) se haya realizado correctamente.\n",
        "\n",
        "Este análisis te permite entender tanto el rendimiento de los diferentes modelos como el proceso de tuning y la estructura del dataset, lo cual es fundamental para garantizar que el sistema predictivo cumpla con los objetivos del reto.\n"
      ],
      "metadata": {
        "nteract": {
          "transient": {
            "deleting": false
          }
        }
      }
    },
    {
      "cell_type": "markdown",
      "source": [
        "#### *Se eliminan algunas variables y se evalua el modelo* (9 minutos)"
      ],
      "metadata": {
        "nteract": {
          "transient": {
            "deleting": false
          }
        }
      }
    },
    {
      "cell_type": "code",
      "source": [
        "import pandas as pd\n",
        "from sklearn.model_selection import train_test_split, GridSearchCV\n",
        "from sklearn.ensemble import RandomForestClassifier\n",
        "from sklearn.linear_model import LogisticRegression\n",
        "from xgboost import XGBClassifier\n",
        "from sklearn.metrics import accuracy_score, f1_score, classification_report\n",
        "\n",
        "# 📥 Cargar el dataset y conservar copia original\n",
        "file_path = 'output/equipos_info2.csv'\n",
        "equipos_df = pd.read_csv(file_path)\n",
        "df_info_equipos_copia = equipos_df.copy()\n",
        "\n",
        "# 🧼 Preprocesamiento\n",
        "def preprocess_data(df):\n",
        "    df['Fecha_x'] = pd.to_datetime(df['Fecha_x'])\n",
        "    df['Fecha_y'] = pd.to_datetime(df['Fecha_y'])\n",
        "    cat_cols = df.select_dtypes(include='object').columns\n",
        "    for col in cat_cols:\n",
        "        df[col] = df[col].astype('category').cat.codes\n",
        "    return df\n",
        "\n",
        "# 🛠️ Feature Engineering\n",
        "def feature_engineering(df):\n",
        "    df['Horas_Entre_Reg_y_Mto'] = (df['Fecha_y'] - df['Fecha_x']).dt.total_seconds() / 3600\n",
        "    df['Mes_Registro'] = df['Fecha_x'].dt.month\n",
        "    df['Dia_Semana_Registro'] = df['Fecha_x'].dt.dayofweek\n",
        "    df['Mes_Mantenimiento'] = df['Fecha_y'].dt.month\n",
        "    df['Dia_Semana_Mto'] = df['Fecha_y'].dt.dayofweek\n",
        "    df.drop(columns=['Fecha_x', 'Fecha_y'], inplace=True)\n",
        "    return df\n",
        "\n",
        "# ✅ Aplicar transformaciones\n",
        "df = preprocess_data(equipos_df)\n",
        "df = feature_engineering(df)\n",
        "\n",
        "# 🎯 Eliminar variables con fuga y definir features y target\n",
        "X = df.drop(['Fallo', 'Probabilidad_Fallo', 'Numero_Fallos', 'Total_Registros'], axis=1)\n",
        "y = df['Fallo']\n",
        "\n",
        "# 🧪 División de datos\n",
        "X_train, X_test, y_train, y_test = train_test_split(X, y, test_size=0.3, random_state=42)\n",
        "\n",
        "# 🤖 Modelos base\n",
        "models = {\n",
        "    'Random Forest': RandomForestClassifier(random_state=42),\n",
        "    'Logistic Regression': LogisticRegression(max_iter=1000, random_state=42),\n",
        "    'XGBoost': XGBClassifier(use_label_encoder=False, eval_metric='logloss', random_state=42)\n",
        "}\n",
        "\n",
        "# 📊 Evaluación de modelos\n",
        "for name, model in models.items():\n",
        "    model.fit(X_train, y_train)\n",
        "    preds = model.predict(X_test)\n",
        "    acc = accuracy_score(y_test, preds)\n",
        "    f1 = f1_score(y_test, preds)\n",
        "    print(f\"\\n{name}\")\n",
        "    print(f\"Accuracy: {acc:.4f}, F1-Score: {f1:.4f}\")\n",
        "    print(classification_report(y_test, preds))\n",
        "\n",
        "# 🔍 Optimización para Random Forest\n",
        "param_grid = {\n",
        "    'n_estimators': [100, 200],\n",
        "    'max_depth': [None, 10, 20],\n",
        "    'min_samples_split': [2, 5],\n",
        "    'min_samples_leaf': [1, 2]\n",
        "}\n",
        "\n",
        "grid_search = GridSearchCV(RandomForestClassifier(random_state=42),\n",
        "                           param_grid,\n",
        "                           scoring='f1',\n",
        "                           cv=3,\n",
        "                           n_jobs=-1,\n",
        "                           verbose=2)\n",
        "\n",
        "grid_search.fit(X_train, y_train)\n",
        "best_model = grid_search.best_estimator_\n",
        "best_params = grid_search.best_params_\n",
        "\n",
        "# ✅ Evaluación final del modelo optimizado\n",
        "final_preds = best_model.predict(X_test)\n",
        "final_acc = accuracy_score(y_test, final_preds)\n",
        "final_f1 = f1_score(y_test, final_preds)\n",
        "\n",
        "print(\"\\n🔧 Mejores hiperparámetros:\", best_params)\n",
        "print(f\"✅ Accuracy final: {final_acc:.4f}\")\n",
        "print(f\"✅ F1-Score final: {final_f1:.4f}\")\n",
        "print(classification_report(y_test, final_preds))\n"
      ],
      "outputs": [
        {
          "output_type": "stream",
          "name": "stdout",
          "text": "\nRandom Forest\nAccuracy: 1.0000, F1-Score: 1.0000\n              precision    recall  f1-score   support\n\n           0       1.00      1.00      1.00     26979\n           1       1.00      1.00      1.00     26424\n\n    accuracy                           1.00     53403\n   macro avg       1.00      1.00      1.00     53403\nweighted avg       1.00      1.00      1.00     53403\n\n\nLogistic Regression\nAccuracy: 0.5848, F1-Score: 0.5678\n              precision    recall  f1-score   support\n\n           0       0.58      0.62      0.60     26979\n           1       0.59      0.55      0.57     26424\n\n    accuracy                           0.58     53403\n   macro avg       0.58      0.58      0.58     53403\nweighted avg       0.58      0.58      0.58     53403\n\n\nXGBoost\nAccuracy: 1.0000, F1-Score: 1.0000\n              precision    recall  f1-score   support\n\n           0       1.00      1.00      1.00     26979\n           1       1.00      1.00      1.00     26424\n\n    accuracy                           1.00     53403\n   macro avg       1.00      1.00      1.00     53403\nweighted avg       1.00      1.00      1.00     53403\n\nFitting 3 folds for each of 24 candidates, totalling 72 fits\n\n🔧 Mejores hiperparámetros: {'max_depth': None, 'min_samples_leaf': 1, 'min_samples_split': 2, 'n_estimators': 100}\n✅ Accuracy final: 1.0000\n✅ F1-Score final: 1.0000\n              precision    recall  f1-score   support\n\n           0       1.00      1.00      1.00     26979\n           1       1.00      1.00      1.00     26424\n\n    accuracy                           1.00     53403\n   macro avg       1.00      1.00      1.00     53403\nweighted avg       1.00      1.00      1.00     53403\n\n"
        },
        {
          "output_type": "stream",
          "name": "stderr",
          "text": "/anaconda/envs/azureml_py310_sdkv2/lib/python3.10/site-packages/xgboost/training.py:183: UserWarning: [06:57:42] WARNING: /workspace/src/learner.cc:738: \nParameters: { \"use_label_encoder\" } are not used.\n\n  bst.update(dtrain, iteration=i, fobj=obj)\n"
        }
      ],
      "execution_count": 15,
      "metadata": {
        "gather": {
          "logged": 1743577578783
        }
      }
    },
    {
      "cell_type": "markdown",
      "source": [
        "A pesar de haber eliminado variables de fuga (Probabilidad_Fallo, Numero_Fallos, Total_Registros), los modelos complejos (RF y XGB) siguen prediciendo al 100%, lo cual sugiere que hay otras variables altamente informativas o redundantes."
      ],
      "metadata": {
        "nteract": {
          "transient": {
            "deleting": false
          }
        }
      }
    },
    {
      "cell_type": "markdown",
      "source": [
        "#### *Analizar importancia de variables*\n",
        "\n",
        "Revisar cuáles variables tienen mayor peso en Random Forest o XGBoost."
      ],
      "metadata": {
        "nteract": {
          "transient": {
            "deleting": false
          }
        }
      }
    },
    {
      "cell_type": "code",
      "source": [
        "import matplotlib.pyplot as plt\n",
        "import seaborn as sns\n",
        "from sklearn.ensemble import RandomForestClassifier\n",
        "\n",
        "# Entrenar modelo rápido solo para obtener importancias\n",
        "rf_temp = RandomForestClassifier(random_state=42)\n",
        "rf_temp.fit(X_train, y_train)\n",
        "\n",
        "# Obtener importancias de variables\n",
        "importancias = pd.Series(rf_temp.feature_importances_, index=X.columns)\n",
        "importancias_sorted = importancias.sort_values(ascending=False)\n",
        "\n",
        "# Visualizar top 15\n",
        "plt.figure(figsize=(10, 6))\n",
        "sns.barplot(x=importancias_sorted[:15], y=importancias_sorted.index[:15])\n",
        "plt.title(\"Top 15 - Importancia de Variables (Random Forest)\")\n",
        "plt.xlabel(\"Importancia\")\n",
        "plt.ylabel(\"Variable\")\n",
        "plt.tight_layout()\n",
        "plt.show()\n"
      ],
      "outputs": [
        {
          "output_type": "display_data",
          "data": {
            "text/plain": "<Figure size 1000x600 with 1 Axes>",
            "image/png": "[encoded data removed]"
          },
          "metadata": {}
        }
      ],
      "execution_count": 16,
      "metadata": {
        "gather": {
          "logged": 1743577736960
        }
      }
    },
    {
      "cell_type": "markdown",
      "source": [
        " #### *Variable más influyente:*\n",
        "\n",
        "Tipo_Mantenimiento domina totalmente la predicción, con una importancia cercana al 95% del total.\n",
        "\n",
        "Esta variable puede estar fuertemente correlacionada con el fallo, porque:\n",
        "\n",
        "Si es Correctivo → ya ocurrió un fallo.\n",
        "\n",
        "Si es Preventivo → probablemente no hubo fallo.\n",
        "\n",
        "Por tanto, incluir Tipo_Mantenimiento es equivalente a decirle al modelo si hubo fallo o no, lo que vicia completamente la predicción.\n",
        "\n"
      ],
      "metadata": {
        "nteract": {
          "transient": {
            "deleting": false
          }
        }
      }
    },
    {
      "cell_type": "markdown",
      "source": [
        "#### *Se eliminan algunas variables y se vuelve a evaluar el modelo* (44 segundos)"
      ],
      "metadata": {
        "nteract": {
          "transient": {
            "deleting": false
          }
        }
      }
    },
    {
      "cell_type": "code",
      "source": [
        "import pandas as pd\n",
        "from sklearn.model_selection import train_test_split\n",
        "from sklearn.ensemble import RandomForestClassifier\n",
        "from sklearn.linear_model import LogisticRegression\n",
        "from xgboost import XGBClassifier\n",
        "from sklearn.metrics import accuracy_score, f1_score, classification_report\n",
        "\n",
        "# 1. Cargar datos\n",
        "file_path = 'output/equipos_info2.csv'\n",
        "equipos_df = pd.read_csv(file_path)\n",
        "df_info_equipos_copia = equipos_df.copy()\n",
        "\n",
        "# 2. Preprocesamiento\n",
        "def preprocess_data(df):\n",
        "    df['Fecha_x'] = pd.to_datetime(df['Fecha_x'])\n",
        "    df['Fecha_y'] = pd.to_datetime(df['Fecha_y'])\n",
        "    cat_cols = df.select_dtypes(include='object').columns\n",
        "    for col in cat_cols:\n",
        "        df[col] = df[col].astype('category').cat.codes\n",
        "    return df\n",
        "\n",
        "# 3. Ingeniería de características\n",
        "def feature_engineering(df):\n",
        "    df['Horas_Entre_Reg_y_Mto'] = (df['Fecha_y'] - df['Fecha_x']).dt.total_seconds() / 3600\n",
        "    df['Mes_Registro'] = df['Fecha_x'].dt.month\n",
        "    df['Dia_Semana_Registro'] = df['Fecha_x'].dt.dayofweek\n",
        "    df['Mes_Mantenimiento'] = df['Fecha_y'].dt.month\n",
        "    df['Dia_Semana_Mto'] = df['Fecha_y'].dt.dayofweek\n",
        "    df.drop(columns=['Fecha_x', 'Fecha_y'], inplace=True)\n",
        "    return df\n",
        "\n",
        "# Aplicar transformaciones\n",
        "df = preprocess_data(equipos_df)\n",
        "df = feature_engineering(df)\n",
        "\n",
        "# 4. Eliminar columnas con fuga de información\n",
        "cols_to_drop = [\n",
        "    'Fallo',\n",
        "    'Probabilidad_Fallo',\n",
        "    'Numero_Fallos',\n",
        "    'Total_Registros',\n",
        "    'Tipo_Mantenimiento',\n",
        "    'Costo_Mantenimiento',\n",
        "    'Duracion_Horas',\n",
        "    'ID_Equipo',\n",
        "    'ID_Registro',\n",
        "    'ID_Orden'\n",
        "]\n",
        "\n",
        "X = df.drop(columns=cols_to_drop, errors='ignore')\n",
        "y = df['Fallo']\n",
        "\n",
        "# 5. División entrenamiento/prueba\n",
        "X_train, X_test, y_train, y_test = train_test_split(X, y, test_size=0.3, random_state=42)\n",
        "\n",
        "# 6. Definir modelos\n",
        "models = {\n",
        "    'Random Forest': RandomForestClassifier(random_state=42),\n",
        "    'Logistic Regression': LogisticRegression(max_iter=1000, random_state=42),\n",
        "    'XGBoost': XGBClassifier(use_label_encoder=False, eval_metric='logloss', random_state=42)\n",
        "}\n",
        "\n",
        "# 7. Entrenamiento y evaluación\n",
        "results = {}\n",
        "\n",
        "for name, model in models.items():\n",
        "    model.fit(X_train, y_train)\n",
        "    preds = model.predict(X_test)\n",
        "    acc = accuracy_score(y_test, preds)\n",
        "    f1 = f1_score(y_test, preds)\n",
        "    report = classification_report(y_test, preds)\n",
        "    results[name] = {\n",
        "        'Accuracy': acc,\n",
        "        'F1-Score': f1,\n",
        "        'Report': report\n",
        "    }\n",
        "    print(f\"\\n🔍 {name}\")\n",
        "    print(f\"Accuracy: {acc:.4f}, F1-Score: {f1:.4f}\")\n",
        "    print(report)\n"
      ],
      "outputs": [
        {
          "output_type": "stream",
          "name": "stdout",
          "text": "\n🔍 Random Forest\nAccuracy: 0.9679, F1-Score: 0.9676\n              precision    recall  f1-score   support\n\n           0       0.97      0.97      0.97     26979\n           1       0.97      0.97      0.97     26424\n\n    accuracy                           0.97     53403\n   macro avg       0.97      0.97      0.97     53403\nweighted avg       0.97      0.97      0.97     53403\n\n\n🔍 XGBoost\nAccuracy: 0.8347, F1-Score: 0.8329\n              precision    recall  f1-score   support\n\n           0       0.84      0.84      0.84     26979\n           1       0.83      0.83      0.83     26424\n\n    accuracy                           0.83     53403\n   macro avg       0.83      0.83      0.83     53403\nweighted avg       0.83      0.83      0.83     53403\n\n[CV] END max_depth=None, min_samples_leaf=1, min_samples_split=2, n_estimators=100; total time=   8.3s\n[CV] END max_depth=None, min_samples_leaf=1, min_samples_split=2, n_estimators=100; total time=   9.6s\n[CV] END max_depth=None, min_samples_leaf=1, min_samples_split=2, n_estimators=200; total time=  18.8s\n[CV] END max_depth=None, min_samples_leaf=1, min_samples_split=5, n_estimators=100; total time=   9.6s\n[CV] END max_depth=None, min_samples_leaf=1, min_samples_split=5, n_estimators=100; total time=   9.6s\n[CV] END max_depth=None, min_samples_leaf=1, min_samples_split=5, n_estimators=200; total time=  18.8s\n[CV] END max_depth=None, min_samples_leaf=1, min_samples_split=5, n_estimators=200; total time=  19.5s\n[CV] END max_depth=None, min_samples_leaf=2, min_samples_split=2, n_estimators=100; total time=  10.1s\n[CV] END max_depth=None, min_samples_leaf=2, min_samples_split=2, n_estimators=200; total time=  18.2s\n[CV] END max_depth=None, min_samples_leaf=2, min_samples_split=5, n_estimators=100; total time=   9.3s\n[CV] END max_depth=None, min_samples_leaf=2, min_samples_split=5, n_estimators=100; total time=   9.8s\n[CV] END max_depth=None, min_samples_leaf=2, min_samples_split=5, n_estimators=200; total time=  20.0s\n[CV] END max_depth=None, min_samples_leaf=2, min_samples_split=5, n_estimators=200; total time=  19.6s\n[CV] END max_depth=10, min_samples_leaf=1, min_samples_split=2, n_estimators=200; total time=  16.8s\n[CV] END max_depth=10, min_samples_leaf=1, min_samples_split=2, n_estimators=200; total time=  18.3s\n[CV] END max_depth=10, min_samples_leaf=1, min_samples_split=5, n_estimators=100; total time=   9.2s\n[CV] END max_depth=10, min_samples_leaf=1, min_samples_split=5, n_estimators=200; total time=  17.6s\n[CV] END max_depth=10, min_samples_leaf=2, min_samples_split=2, n_estimators=100; total time=   9.0s\n[CV] END max_depth=10, min_samples_leaf=2, min_samples_split=2, n_estimators=100; total time=   8.2s\n[CV] END max_depth=10, min_samples_leaf=2, min_samples_split=2, n_estimators=200; total time=  17.5s\n[CV] END max_depth=10, min_samples_leaf=2, min_samples_split=2, n_estimators=200; total time=  19.2s\n[CV] END max_depth=10, min_samples_leaf=2, min_samples_split=5, n_estimators=100; total time=   9.2s\n[CV] END max_depth=10, min_samples_leaf=2, min_samples_split=5, n_estimators=200; total time=  16.6s\n[CV] END max_depth=20, min_samples_leaf=1, min_samples_split=2, n_estimators=100; total time=   9.2s\n[CV] END max_depth=20, min_samples_leaf=1, min_samples_split=2, n_estimators=100; total time=   9.8s\n[CV] END max_depth=20, min_samples_leaf=1, min_samples_split=2, n_estimators=200; total time=  19.2s\n[CV] END max_depth=20, min_samples_leaf=1, min_samples_split=2, n_estimators=200; total time=  19.0s\n[CV] END max_depth=20, min_samples_leaf=1, min_samples_split=5, n_estimators=100; total time=  10.3s\n[CV] END max_depth=20, min_samples_leaf=1, min_samples_split=5, n_estimators=200; total time=  19.9s\n[CV] END max_depth=20, min_samples_leaf=2, min_samples_split=2, n_estimators=100; total time=   9.3s\n[CV] END max_depth=20, min_samples_leaf=2, min_samples_split=2, n_estimators=100; total time=   9.5s\n[CV] END max_depth=20, min_samples_leaf=2, min_samples_split=2, n_estimators=200; total time=  18.6s\n[CV] END max_depth=20, min_samples_leaf=2, min_samples_split=2, n_estimators=200; total time=  20.0s\n[CV] END max_depth=20, min_samples_leaf=2, min_samples_split=5, n_estimators=100; total time=  10.0s\n[CV] END max_depth=20, min_samples_leaf=2, min_samples_split=5, n_estimators=200; total time=  19.2s\n[CV] END max_depth=None, min_samples_leaf=1, min_samples_split=2, n_estimators=100; total time=   9.8s\n[CV] END max_depth=None, min_samples_leaf=1, min_samples_split=2, n_estimators=200; total time=  19.3s\n[CV] END max_depth=None, min_samples_leaf=1, min_samples_split=2, n_estimators=200; total time=  19.1s\n[CV] END max_depth=None, min_samples_leaf=1, min_samples_split=5, n_estimators=100; total time=  10.1s\n[CV] END max_depth=None, min_samples_leaf=1, min_samples_split=5, n_estimators=200; total time=  19.4s\n[CV] END max_depth=None, min_samples_leaf=2, min_samples_split=2, n_estimators=100; total time=   8.8s\n[CV] END max_depth=None, min_samples_leaf=2, min_samples_split=2, n_estimators=100; total time=   9.1s\n[CV] END max_depth=None, min_samples_leaf=2, min_samples_split=2, n_estimators=200; total time=  18.6s\n[CV] END max_depth=None, min_samples_leaf=2, min_samples_split=2, n_estimators=200; total time=  19.0s\n[CV] END max_depth=None, min_samples_leaf=2, min_samples_split=5, n_estimators=100; total time=   9.9s\n[CV] END max_depth=None, min_samples_leaf=2, min_samples_split=5, n_estimators=200; total time=  19.2s\n[CV] END max_depth=10, min_samples_leaf=1, min_samples_split=2, n_estimators=100; total time=   8.3s\n[CV] END max_depth=10, min_samples_leaf=1, min_samples_split=2, n_estimators=100; total time=   8.2s\n[CV] END max_depth=10, min_samples_leaf=1, min_samples_split=2, n_estimators=100; total time=   8.6s\n[CV] END max_depth=10, min_samples_leaf=1, min_samples_split=2, n_estimators=200; total time=  17.4s\n[CV] END max_depth=10, min_samples_leaf=1, min_samples_split=5, n_estimators=100; total time=   7.7s\n[CV] END max_depth=10, min_samples_leaf=1, min_samples_split=5, n_estimators=100; total time=   8.7s\n[CV] END max_depth=10, min_samples_leaf=1, min_samples_split=5, n_estimators=200; total time=  16.7s\n[CV] END max_depth=10, min_samples_leaf=1, min_samples_split=5, n_estimators=200; total time=  18.8s\n[CV] END max_depth=10, min_samples_leaf=2, min_samples_split=2, n_estimators=100; total time=   9.8s\n[CV] END max_depth=10, min_samples_leaf=2, min_samples_split=2, n_estimators=200; total time=  16.6s\n[CV] END max_depth=10, min_samples_leaf=2, min_samples_split=5, n_estimators=100; total time=   8.3s\n[CV] END max_depth=10, min_samples_leaf=2, min_samples_split=5, n_estimators=100; total time=   8.1s\n[CV] END max_depth=10, min_samples_leaf=2, min_samples_split=5, n_estimators=200; total time=  16.7s\n[CV] END max_depth=10, min_samples_leaf=2, min_samples_split=5, n_estimators=200; total time=  18.1s\n[CV] END max_depth=20, min_samples_leaf=1, min_samples_split=2, n_estimators=100; total time=   9.9s\n[CV] END max_depth=20, min_samples_leaf=1, min_samples_split=2, n_estimators=200; total time=  18.6s\n[CV] END max_depth=20, min_samples_leaf=1, min_samples_split=5, n_estimators=100; total time=   9.4s\n[CV] END max_depth=20, min_samples_leaf=1, min_samples_split=5, n_estimators=100; total time=   9.3s\n[CV] END max_depth=20, min_samples_leaf=1, min_samples_split=5, n_estimators=200; total time=  19.2s\n[CV] END max_depth=20, min_samples_leaf=1, min_samples_split=5, n_estimators=200; total time=  20.0s\n[CV] END max_depth=20, min_samples_leaf=2, min_samples_split=2, n_estimators=100; total time=   9.7s\n[CV] END max_depth=20, min_samples_leaf=2, min_samples_split=2, n_estimators=200; total time=  18.7s\n[CV] END max_depth=20, min_samples_leaf=2, min_samples_split=5, n_estimators=100; total time=   9.8s\n[CV] END max_depth=20, min_samples_leaf=2, min_samples_split=5, n_estimators=100; total time=  10.2s\n[CV] END max_depth=20, min_samples_leaf=2, min_samples_split=5, n_estimators=200; total time=  19.3s\n[CV] END max_depth=20, min_samples_leaf=2, min_samples_split=5, n_estimators=200; total time=  15.3s\n"
        },
        {
          "output_type": "stream",
          "name": "stderr",
          "text": "/anaconda/envs/azureml_py310_sdkv2/lib/python3.10/site-packages/xgboost/training.py:183: UserWarning: [07:10:57] WARNING: /workspace/src/learner.cc:738: \nParameters: { \"use_label_encoder\" } are not used.\n\n  bst.update(dtrain, iteration=i, fobj=obj)\n"
        }
      ],
      "execution_count": 18,
      "metadata": {
        "gather": {
          "logged": 1743577858684
        }
      }
    },
    {
      "cell_type": "markdown",
      "source": [
        "A continuación, se presenta un análisis detallado del output:\n",
        "\n",
        "---\n",
        "\n",
        "### 1. Desempeño de los Modelos\n",
        "\n",
        "#### **Random Forest**\n",
        "- **Métricas:**\n",
        "  - **Accuracy:** 0.9679  \n",
        "  - **F1-Score:** 0.9676  \n",
        "- **Reporte de Clasificación:**  \n",
        "  - Tanto para la clase 0 como para la clase 1, las métricas de precisión, recall y f1-score rondan los 0.97.  \n",
        "  - El dataset contiene 53,403 muestras en total, distribuidas en 26,979 muestras para la clase 0 y 26,424 para la clase 1.  \n",
        "- **Interpretación:**  \n",
        "  - El modelo de Random Forest muestra un desempeño muy alto, lo que sugiere que está capturando bien las características del problema.  \n",
        "  - Es importante revisar que estos resultados sean consistentes en un conjunto de validación independiente para descartar posibles sobreajustes.\n",
        "\n",
        "#### **XGBoost**\n",
        "- **Métricas:**\n",
        "  - **Accuracy:** 0.8347  \n",
        "  - **F1-Score:** 0.8329  \n",
        "- **Reporte de Clasificación:**  \n",
        "  - Las métricas para ambas clases se sitúan alrededor de 0.83, lo que indica un desempeño inferior al de Random Forest en este caso.  \n",
        "- **Interpretación:**  \n",
        "  - Aunque XGBoost es un modelo muy potente, en esta ejecución su rendimiento es notablemente menor que el de Random Forest.  \n",
        "  - Esto podría deberse a la configuración de los hiperparámetros o a la forma en que el modelo se ha ajustado a estos datos específicos.\n",
        "\n",
        "---\n",
        "\n",
        "### 2. Búsqueda de Hiperparámetros y Validación Cruzada (CV)\n",
        "\n",
        "- **Mensajes de CV:**  \n",
        "  Se muestran numerosas líneas del tipo:\n",
        "  ```\n",
        "  [CV] END max_depth=None, min_samples_leaf=1, min_samples_split=2, n_estimators=100; total time=   8.3s\n",
        "  ```\n",
        "  Esto indica lo siguiente:\n",
        "  - **Configuración de Parámetros:**  \n",
        "    Se han probado diferentes combinaciones de hiperparámetros, tales como:\n",
        "    - `max_depth`: sin límite (None) o valores específicos (por ejemplo, 10 o 20).\n",
        "    - `min_samples_leaf`: 1 o 2.\n",
        "    - `min_samples_split`: 2 o 5.\n",
        "    - `n_estimators`: 100 o 200.\n",
        "  - **Tiempo de Ejecución:**  \n",
        "    Cada combinación tiene un tiempo total de ajuste, que varía según la complejidad del modelo (por ejemplo, aumentar el número de estimadores suele incrementar el tiempo).\n",
        "  - **Proceso de CV:**  \n",
        "    Estos mensajes son el resultado de un proceso de validación cruzada, donde cada combinación se evalúa para encontrar la configuración óptima del modelo.\n",
        "\n",
        "- **Interpretación:**  \n",
        "  - La cantidad de combinaciones y los tiempos registrados (entre 7.7s y 22.9s, aproximadamente) evidencian un proceso exhaustivo de tuning.\n",
        "  - Es importante considerar el equilibrio entre desempeño y tiempo computacional al seleccionar la configuración final del modelo.\n",
        "\n",
        "---\n",
        "\n",
        "### 3. Advertencia de XGBoost\n",
        "\n",
        "- **Mensaje:**\n",
        "  ```\n",
        "  /anaconda/envs/azureml_py310_sdkv2/lib/python3.10/site-packages/xgboost/training.py:183: UserWarning: ... Parameters: { \"use_label_encoder\" } are not used.\n",
        "  ```\n",
        "- **Significado:**\n",
        "  - La advertencia indica que el parámetro `use_label_encoder` se está pasando al inicializar XGBoost, pero en la versión actual de la librería este parámetro ya no tiene efecto.\n",
        "  - Este aviso es informativo y no afecta el funcionamiento ni el rendimiento del modelo.\n",
        "\n",
        "---\n",
        "\n",
        "### Conclusiones Generales\n",
        "\n",
        "- **Comparación de Desempeño:**  \n",
        "  - **Random Forest** presenta métricas muy altas (≈0.97), lo que sugiere un ajuste adecuado, aunque siempre se debe confirmar que no exista sobreajuste mediante validación adicional.\n",
        "  - **XGBoost** muestra un desempeño menor (≈0.83), lo que podría indicar la necesidad de ajustar sus hiperparámetros o revisar la preparación de los datos para este modelo en particular.\n",
        "\n",
        "- **Proceso de Tuning:**  \n",
        "  - Se realizó una búsqueda exhaustiva de hiperparámetros utilizando validación cruzada, lo cual es fundamental para optimizar el desempeño del modelo.\n",
        "  - Los tiempos de ejecución reportados permiten evaluar la complejidad computacional de cada configuración y ayudan a tomar decisiones basadas en la eficiencia.\n",
        "\n",
        "- **Advertencias:**  \n",
        "  - La advertencia de XGBoost sobre `use_label_encoder` es habitual en versiones recientes y se puede ignorar sin preocupaciones.\n",
        "\n",
        "Este análisis integral ayuda a comprender tanto la eficacia de los modelos evaluados como el proceso de optimización llevado a cabo para alcanzar los resultados presentados.\n"
      ],
      "metadata": {
        "nteract": {
          "transient": {
            "deleting": false
          }
        }
      }
    },
    {
      "cell_type": "markdown",
      "source": [
        "#### *Guardar modelos entrenados*"
      ],
      "metadata": {
        "nteract": {
          "transient": {
            "deleting": false
          }
        }
      }
    },
    {
      "cell_type": "code",
      "source": [
        "import joblib\n",
        "\n",
        "# Guardar modelos entrenados\n",
        "joblib.dump(models['Random Forest'], 'modelo_random_forest.pkl')\n",
        "joblib.dump(models['XGBoost'], 'modelo_xgboost.pkl')\n",
        "\n",
        "print(\"✅ Modelos guardados exitosamente.\")\n"
      ],
      "outputs": [
        {
          "output_type": "stream",
          "name": "stdout",
          "text": "✅ Modelos guardados exitosamente.\n"
        }
      ],
      "execution_count": 19,
      "metadata": {
        "gather": {
          "logged": 1743578277117
        }
      }
    },
    {
      "cell_type": "markdown",
      "source": [
        "#### *Cargar y usar modelos guardados*"
      ],
      "metadata": {
        "nteract": {
          "transient": {
            "deleting": false
          }
        }
      }
    },
    {
      "cell_type": "code",
      "source": [
        "import joblib\n",
        "\n",
        "# Cargar modelos previamente guardados\n",
        "modelo_rf = joblib.load('modelo_random_forest.pkl')\n",
        "modelo_xgb = joblib.load('modelo_xgboost.pkl')\n",
        "\n",
        "# 🧪 Ejemplo de predicción con X_test\n",
        "pred_rf = modelo_rf.predict(X_test)\n",
        "pred_xgb = modelo_xgb.predict(X_test)\n",
        "\n",
        "# Mostrar algunas predicciones\n",
        "print(\"🔮 Predicciones Random Forest:\", pred_rf[:5])\n",
        "print(\"🔮 Predicciones XGBoost:\", pred_xgb[:5])\n"
      ],
      "outputs": [
        {
          "output_type": "stream",
          "name": "stdout",
          "text": "🔮 Predicciones Random Forest: [0 0 0 0 1]\n🔮 Predicciones XGBoost: [0 0 0 0 0]\n"
        }
      ],
      "execution_count": 20,
      "metadata": {
        "gather": {
          "logged": 1743578302600
        }
      }
    },
    {
      "cell_type": "markdown",
      "source": [
        " #### *Nuevo dataframe df_nuevo simulado correctamente para predicciones.*\n",
        "\n",
        "Este contiene:\n",
        "\n",
        "Las mismas columnas que X (usadas en el modelo).\n",
        "\n",
        "5 registros tomados del dataset original.\n",
        "\n",
        "Variaciones aplicadas para simular nuevas condiciones."
      ],
      "metadata": {
        "nteract": {
          "transient": {
            "deleting": false
          }
        }
      }
    },
    {
      "cell_type": "code",
      "source": [
        "# importar, cargar datos y preparar nuevo dataframe\n",
        "\n",
        "import pandas as pd\n",
        "\n",
        "# 1. Cargar datos\n",
        "file_path = 'output/equipos_info2.csv'\n",
        "equipos_df = pd.read_csv(file_path)\n",
        "df_info_equipos_copia = equipos_df.copy()\n",
        "\n",
        "# Preprocesamiento\n",
        "def preprocess_data(df):\n",
        "    df['Fecha_x'] = pd.to_datetime(df['Fecha_x'])\n",
        "    df['Fecha_y'] = pd.to_datetime(df['Fecha_y'])\n",
        "    cat_cols = df.select_dtypes(include='object').columns\n",
        "    for col in cat_cols:\n",
        "        df[col] = df[col].astype('category').cat.codes\n",
        "    return df\n",
        "\n",
        "# Ingeniería de características\n",
        "def feature_engineering(df):\n",
        "    df['Horas_Entre_Reg_y_Mto'] = (df['Fecha_y'] - df['Fecha_x']).dt.total_seconds() / 3600\n",
        "    df['Mes_Registro'] = df['Fecha_x'].dt.month\n",
        "    df['Dia_Semana_Registro'] = df['Fecha_x'].dt.dayofweek\n",
        "    df['Mes_Mantenimiento'] = df['Fecha_y'].dt.month\n",
        "    df['Dia_Semana_Mto'] = df['Fecha_y'].dt.dayofweek\n",
        "    df.drop(columns=['Fecha_x', 'Fecha_y'], inplace=True)\n",
        "    return df\n",
        "\n",
        "# Aplicar transformación\n",
        "df = preprocess_data(equipos_df)\n",
        "df = feature_engineering(df)\n",
        "\n",
        "# Eliminar variables con fuga\n",
        "cols_to_drop = [\n",
        "    'Fallo', 'Probabilidad_Fallo', 'Numero_Fallos', 'Total_Registros',\n",
        "    'Tipo_Mantenimiento', 'Costo_Mantenimiento', 'Duracion_Horas',\n",
        "    'ID_Equipo', 'ID_Registro', 'ID_Orden'\n",
        "]\n",
        "X = df.drop(columns=cols_to_drop, errors='ignore')\n",
        "\n",
        "# Crear nuevo dataframe a partir de X con modificaciones para simulación\n",
        "df_nuevo = X.copy().iloc[:5].reset_index(drop=True)\n",
        "df_nuevo['Temperatura_C'] += 0.5\n",
        "df_nuevo['Vibracion_mm_s'] += 0.2\n",
        "df_nuevo['Horas_Entre_Reg_y_Mto'] += 10\n",
        "\n",
        "df_nuevo\n"
      ],
      "outputs": [
        {
          "output_type": "execute_result",
          "execution_count": 21,
          "data": {
            "text/plain": "   Tipo_Equipo  Fabricante  Modelo  Potencia_kW  Horas_Recomendadas_Revision  \\\n0            0           3       3       3429.0                         7725   \n1            0           3       3       3429.0                         7725   \n2            0           3       3       3429.0                         7725   \n3            0           3       3       3429.0                         7725   \n4            0           3       3       3429.0                         7725   \n\n   Frecuencia_Mto  Vida_Util  Temperatura_C  Vibracion_mm_s  Horas_Operativas  \\\n0              22   870072.0           94.3             0.9           80054.0   \n1              22   870072.0           94.3             0.9           80054.0   \n2              22   870072.0           94.3             0.9           80054.0   \n3              22   870072.0           94.3             0.9           80054.0   \n4              22   870072.0           94.3             0.9           80054.0   \n\n   Ubicacion  Horas_Entre_Reg_y_Mto  Mes_Registro  Dia_Semana_Registro  \\\n0          2                  781.0             1                    3   \n1          0                  819.0             1                    3   \n2          1                 1326.0             1                    3   \n3          2                 1818.0             1                    3   \n4          2                 2085.0             1                    3   \n\n   Mes_Mantenimiento  Dia_Semana_Mto  \n0                  2               0  \n1                  2               1  \n2                  2               1  \n3                  3               1  \n4                  3               5  ",
            "text/html": "<div>\n<style scoped>\n    .dataframe tbody tr th:only-of-type {\n        vertical-align: middle;\n    }\n\n    .dataframe tbody tr th {\n        vertical-align: top;\n    }\n\n    .dataframe thead th {\n        text-align: right;\n    }\n</style>\n<table border=\"1\" class=\"dataframe\">\n  <thead>\n    <tr style=\"text-align: right;\">\n      <th></th>\n      <th>Tipo_Equipo</th>\n      <th>Fabricante</th>\n      <th>Modelo</th>\n      <th>Potencia_kW</th>\n      <th>Horas_Recomendadas_Revision</th>\n      <th>Frecuencia_Mto</th>\n      <th>Vida_Util</th>\n      <th>Temperatura_C</th>\n      <th>Vibracion_mm_s</th>\n      <th>Horas_Operativas</th>\n      <th>Ubicacion</th>\n      <th>Horas_Entre_Reg_y_Mto</th>\n      <th>Mes_Registro</th>\n      <th>Dia_Semana_Registro</th>\n      <th>Mes_Mantenimiento</th>\n      <th>Dia_Semana_Mto</th>\n    </tr>\n  </thead>\n  <tbody>\n    <tr>\n      <th>0</th>\n      <td>0</td>\n      <td>3</td>\n      <td>3</td>\n      <td>3429.0</td>\n      <td>7725</td>\n      <td>22</td>\n      <td>870072.0</td>\n      <td>94.3</td>\n      <td>0.9</td>\n      <td>80054.0</td>\n      <td>2</td>\n      <td>781.0</td>\n      <td>1</td>\n      <td>3</td>\n      <td>2</td>\n      <td>0</td>\n    </tr>\n    <tr>\n      <th>1</th>\n      <td>0</td>\n      <td>3</td>\n      <td>3</td>\n      <td>3429.0</td>\n      <td>7725</td>\n      <td>22</td>\n      <td>870072.0</td>\n      <td>94.3</td>\n      <td>0.9</td>\n      <td>80054.0</td>\n      <td>0</td>\n      <td>819.0</td>\n      <td>1</td>\n      <td>3</td>\n      <td>2</td>\n      <td>1</td>\n    </tr>\n    <tr>\n      <th>2</th>\n      <td>0</td>\n      <td>3</td>\n      <td>3</td>\n      <td>3429.0</td>\n      <td>7725</td>\n      <td>22</td>\n      <td>870072.0</td>\n      <td>94.3</td>\n      <td>0.9</td>\n      <td>80054.0</td>\n      <td>1</td>\n      <td>1326.0</td>\n      <td>1</td>\n      <td>3</td>\n      <td>2</td>\n      <td>1</td>\n    </tr>\n    <tr>\n      <th>3</th>\n      <td>0</td>\n      <td>3</td>\n      <td>3</td>\n      <td>3429.0</td>\n      <td>7725</td>\n      <td>22</td>\n      <td>870072.0</td>\n      <td>94.3</td>\n      <td>0.9</td>\n      <td>80054.0</td>\n      <td>2</td>\n      <td>1818.0</td>\n      <td>1</td>\n      <td>3</td>\n      <td>3</td>\n      <td>1</td>\n    </tr>\n    <tr>\n      <th>4</th>\n      <td>0</td>\n      <td>3</td>\n      <td>3</td>\n      <td>3429.0</td>\n      <td>7725</td>\n      <td>22</td>\n      <td>870072.0</td>\n      <td>94.3</td>\n      <td>0.9</td>\n      <td>80054.0</td>\n      <td>2</td>\n      <td>2085.0</td>\n      <td>1</td>\n      <td>3</td>\n      <td>3</td>\n      <td>5</td>\n    </tr>\n  </tbody>\n</table>\n</div>"
          },
          "metadata": {}
        }
      ],
      "execution_count": 21,
      "metadata": {
        "gather": {
          "logged": 1743578423606
        }
      }
    },
    {
      "cell_type": "code",
      "source": [
        "# Cargar modelos guardados\n",
        "import joblib\n",
        "\n",
        "modelo_rf = joblib.load('modelo_random_forest.pkl')\n",
        "modelo_xgb = joblib.load('modelo_xgboost.pkl')\n",
        "\n",
        "# Realizar predicciones sobre nuevos datos\n",
        "pred_rf = modelo_rf.predict(df_nuevo)\n",
        "pred_xgb = modelo_xgb.predict(df_nuevo)\n",
        "\n",
        "print(\"🔮 Predicciones Random Forest:\", pred_rf)\n",
        "print(\"🔮 Predicciones XGBoost:\", pred_xgb)\n",
        "\n",
        "# Si quieres ver también la probabilidad de fallo para cada predicción\n",
        "\n",
        "proba_rf = modelo_rf.predict_proba(df_nuevo)[:, 1]\n",
        "proba_xgb = modelo_xgb.predict_proba(df_nuevo)[:, 1]\n",
        "\n",
        "for i in range(len(df_nuevo)):\n",
        "    print(f\"\\n🆔 Registro {i+1}\")\n",
        "    print(f\"Random Forest → Predicción: {pred_rf[i]}, Prob(Fallo): {proba_rf[i]:.4f}\")\n",
        "    print(f\"XGBoost       → Predicción: {pred_xgb[i]}, Prob(Fallo): {proba_xgb[i]:.4f}\")\n",
        "\n"
      ],
      "outputs": [
        {
          "output_type": "stream",
          "name": "stdout",
          "text": "🔮 Predicciones Random Forest: [0 1 1 1 0]\n🔮 Predicciones XGBoost: [1 1 1 1 0]\n\n🆔 Registro 1\nRandom Forest → Predicción: 0, Prob(Fallo): 0.3300\nXGBoost       → Predicción: 1, Prob(Fallo): 0.5699\n\n🆔 Registro 2\nRandom Forest → Predicción: 1, Prob(Fallo): 0.8700\nXGBoost       → Predicción: 1, Prob(Fallo): 0.6431\n\n🆔 Registro 3\nRandom Forest → Predicción: 1, Prob(Fallo): 0.9300\nXGBoost       → Predicción: 1, Prob(Fallo): 0.6896\n\n🆔 Registro 4\nRandom Forest → Predicción: 1, Prob(Fallo): 0.7000\nXGBoost       → Predicción: 1, Prob(Fallo): 0.5115\n\n🆔 Registro 5\nRandom Forest → Predicción: 0, Prob(Fallo): 0.1100\nXGBoost       → Predicción: 0, Prob(Fallo): 0.3085\n"
        }
      ],
      "execution_count": 22,
      "metadata": {
        "gather": {
          "logged": 1743578450633
        }
      }
    },
    {
      "cell_type": "markdown",
      "source": [
        "El análisis de las predicciones individuales revela lo siguiente:\n",
        "\n",
        "### Resumen General\n",
        "\n",
        "- **Predicciones Globales:**\n",
        "  - **Random Forest:** Predice la secuencia `[0 1 1 1 0]`.\n",
        "  - **XGBoost:** Predice la secuencia `[1 1 1 1 0]`.\n",
        "  \n",
        "  La única diferencia en la clasificación binaria ocurre en el **Registro 1**, donde Random Forest predice 0 y XGBoost predice 1.\n",
        "\n",
        "---\n",
        "\n",
        "### Análisis por Registro\n",
        "\n",
        "- **Registro 1:**\n",
        "  - **Random Forest:**  \n",
        "    - Predicción: 0  \n",
        "    - Probabilidad de fallo: 33%  \n",
        "  - **XGBoost:**  \n",
        "    - Predicción: 1  \n",
        "    - Probabilidad de fallo: 57%  \n",
        "  - **Interpretación:**  \n",
        "    - Existe un desacuerdo entre los modelos. Mientras Random Forest indica que la probabilidad es baja (por debajo del umbral típico de 0.5), XGBoost considera que la probabilidad supera el umbral, lo que lleva a una clasificación de fallo. Este caso es ambiguo y podría ser revisado con estrategias de ensamble o análisis de umbrales.\n",
        "\n",
        "- **Registro 2:**\n",
        "  - **Random Forest:**  \n",
        "    - Predicción: 1  \n",
        "    - Probabilidad de fallo: 87%  \n",
        "  - **XGBoost:**  \n",
        "    - Predicción: 1  \n",
        "    - Probabilidad de fallo: 64%  \n",
        "  - **Interpretación:**  \n",
        "    - Ambos modelos coinciden en que existe un fallo, aunque Random Forest está más seguro (87% vs. 64%).\n",
        "\n",
        "- **Registro 3:**\n",
        "  - **Random Forest:**  \n",
        "    - Predicción: 1  \n",
        "    - Probabilidad de fallo: 93%  \n",
        "  - **XGBoost:**  \n",
        "    - Predicción: 1  \n",
        "    - Probabilidad de fallo: 69%  \n",
        "  - **Interpretación:**  \n",
        "    - Se observa un alto consenso en la predicción de fallo, aunque nuevamente Random Forest muestra una mayor confianza.\n",
        "\n",
        "- **Registro 4:**\n",
        "  - **Random Forest:**  \n",
        "    - Predicción: 1  \n",
        "    - Probabilidad de fallo: 70%  \n",
        "  - **XGBoost:**  \n",
        "    - Predicción: 1  \n",
        "    - Probabilidad de fallo: 51%  \n",
        "  - **Interpretación:**  \n",
        "    - Ambos modelos predicen fallo, pero la probabilidad de XGBoost está justo por encima de un umbral típico, sugiriendo menor seguridad en la clasificación.\n",
        "\n",
        "- **Registro 5:**\n",
        "  - **Random Forest:**  \n",
        "    - Predicción: 0  \n",
        "    - Probabilidad de fallo: 11%  \n",
        "  - **XGBoost:**  \n",
        "    - Predicción: 0  \n",
        "    - Probabilidad de fallo: 31%  \n",
        "  - **Interpretación:**  \n",
        "    - Ambos modelos coinciden en la ausencia de fallo, aunque XGBoost muestra una probabilidad de fallo algo más alta, aunque aún por debajo del umbral.\n",
        "\n",
        "---\n",
        "\n",
        "### Conclusiones y Recomendaciones\n",
        "\n",
        "- **Discrepancias en Registro 1:**  \n",
        "  - La diferencia en la clasificación de este registro sugiere que el caso es ambiguo. Se recomienda analizar más a fondo este tipo de registros, por ejemplo, evaluando si se podrían ajustar los umbrales de decisión o combinar las predicciones en un modelo de ensamble.\n",
        "\n",
        "- **Confianza Diferente entre Modelos:**  \n",
        "  - Random Forest consistentemente asigna probabilidades más extremas (más cerca de 0 o 1) en comparación con XGBoost, lo que indica una mayor \"confianza\" en sus predicciones.  \n",
        "  - Esta diferencia podría aprovecharse para ponderar las predicciones en un sistema híbrido.\n",
        "\n",
        "- **Estrategia de Ensamble:**  \n",
        "  - Dado que en la mayoría de los casos los modelos coinciden, una estrategia de votación o ensamble podría mejorar la robustez y la confiabilidad final de la predicción, especialmente en casos ambiguos como el Registro 1.\n",
        "\n",
        "Este análisis permite identificar claramente dónde y por qué los modelos difieren, lo que es crucial para afinar el sistema predictivo y garantizar una mejor generalización en casos reales.\n"
      ],
      "metadata": {
        "nteract": {
          "transient": {
            "deleting": false
          }
        }
      }
    },
    {
      "cell_type": "markdown",
      "source": [
        "### *🔮 Función: predecir_con_modelo(df, modelo)*"
      ],
      "metadata": {
        "nteract": {
          "transient": {
            "deleting": false
          }
        }
      }
    },
    {
      "cell_type": "code",
      "source": [
        "import numpy as np\n",
        "import pandas as pd\n",
        "\n",
        "def predecir_con_modelo(df, modelo, nombre_modelo=''):\n",
        "    \"\"\"\n",
        "    Realiza predicciones y probabilidades con un modelo entrenado sobre un DataFrame nuevo.\n",
        "\n",
        "    Parámetros:\n",
        "        df (pd.DataFrame): Datos de entrada (deben tener las mismas columnas que X).\n",
        "        modelo: Modelo entrenado (Random Forest, XGBoost, etc.).\n",
        "        nombre_modelo (str): Nombre del modelo para marcar resultados.\n",
        "\n",
        "    Retorna:\n",
        "        pd.DataFrame con columnas: 'Predicción_<modelo>' y 'Probabilidad_Fallo_<modelo>'\n",
        "    \"\"\"\n",
        "    pred = modelo.predict(df)\n",
        "    \n",
        "    if hasattr(modelo, \"predict_proba\"):\n",
        "        prob = modelo.predict_proba(df)[:, 1]\n",
        "    else:\n",
        "        prob = [None] * len(pred)\n",
        "\n",
        "    df_resultado = df.copy()\n",
        "    df_resultado[f'Prediccion_{nombre_modelo}'] = pred\n",
        "    df_resultado[f'Probabilidad_Fallo_{nombre_modelo}'] = np.round(prob, 4)\n",
        "\n",
        "    return df_resultado[[f'Prediccion_{nombre_modelo}', f'Probabilidad_Fallo_{nombre_modelo}']]\n"
      ],
      "outputs": [],
      "execution_count": 23,
      "metadata": {
        "gather": {
          "logged": 1743579143838
        }
      }
    },
    {
      "cell_type": "markdown",
      "source": [
        "#### *Ejemplo de uso con ambos modelos*"
      ],
      "metadata": {
        "nteract": {
          "transient": {
            "deleting": false
          }
        }
      }
    },
    {
      "cell_type": "code",
      "source": [
        "import joblib\n",
        "\n",
        "# Cargar modelos entrenados\n",
        "modelo_rf = joblib.load('modelo_random_forest.pkl')\n",
        "modelo_xgb = joblib.load('modelo_xgboost.pkl')\n",
        "\n",
        "# Predecir con Random Forest\n",
        "res_rf = predecir_con_modelo(df_nuevo, modelo_rf, nombre_modelo='RF')\n",
        "print(\"🔮 Predicciones Random Forest:\")\n",
        "print(res_rf)\n",
        "\n",
        "# Predecir con XGBoost\n",
        "res_xgb = predecir_con_modelo(df_nuevo, modelo_xgb, nombre_modelo='XGB')\n",
        "print(\"\\n🔮 Predicciones XGBoost:\")\n",
        "print(res_xgb)\n",
        "\n",
        "# (Opcional) Combinar resultados en un solo DataFrame\n",
        "resultados_combinados = pd.concat([res_rf, res_xgb], axis=1)\n",
        "print(\"\\n📊 Resultados combinados:\")\n",
        "print(resultados_combinados)\n"
      ],
      "outputs": [
        {
          "output_type": "stream",
          "name": "stdout",
          "text": "🔮 Predicciones Random Forest:\n   Prediccion_RF  Probabilidad_Fallo_RF\n0              0                   0.33\n1              1                   0.87\n2              1                   0.93\n3              1                   0.70\n4              0                   0.11\n\n🔮 Predicciones XGBoost:\n   Prediccion_XGB  Probabilidad_Fallo_XGB\n0               1                  0.5699\n1               1                  0.6431\n2               1                  0.6896\n3               1                  0.5115\n4               0                  0.3085\n\n📊 Resultados combinados:\n   Prediccion_RF  Probabilidad_Fallo_RF  Prediccion_XGB  \\\n0              0                   0.33               1   \n1              1                   0.87               1   \n2              1                   0.93               1   \n3              1                   0.70               1   \n4              0                   0.11               0   \n\n   Probabilidad_Fallo_XGB  \n0                  0.5699  \n1                  0.6431  \n2                  0.6896  \n3                  0.5115  \n4                  0.3085  \n"
        }
      ],
      "execution_count": 24,
      "metadata": {
        "gather": {
          "logged": 1743579166693
        }
      }
    },
    {
      "cell_type": "markdown",
      "source": [
        "Gracias por compartir los resultados. Vamos a analizarlos comparativamente:\n",
        "\n",
        "---\n",
        "\n",
        "## 📊 **Análisis de Resultados de Predicción**\n",
        "\n",
        "| Registro | RF: Predicción / Prob | XGB: Predicción / Prob | Coinciden | Comentario |\n",
        "|----------|------------------------|-------------------------|-----------|------------|\n",
        "| **0**    | 0 → 33%                | 1 → 57%                 | ❌        | Caso límite: XGB clasifica como fallo, RF no |\n",
        "| **1**    | 1 → 87%                | 1 → 64%                 | ✅        | Ambos de acuerdo, alta confianza |\n",
        "| **2**    | 1 → 93%                | 1 → 69%                 | ✅        | Ambos de acuerdo, muy alta probabilidad |\n",
        "| **3**    | 1 → 70%                | 1 → 51%                 | ✅        | Ambos de acuerdo, XGB menos confiado |\n",
        "| **4**    | 0 → 11%                | 0 → 31%                 | ✅        | Ambos de acuerdo, baja probabilidad de fallo |\n",
        "\n",
        "---\n",
        "\n",
        "## 🧠 Interpretación\n",
        "\n",
        "- **Coincidencia general**: 4 de 5 predicciones coinciden → buena consistencia entre modelos.\n",
        "- **Registro 0**:\n",
        "  - **Random Forest** dice *no hay fallo* con 33%.\n",
        "  - **XGBoost** predice *fallo* con 57% → está justo sobre el umbral típico (0.5), pero cerca del límite.\n",
        "  - ⚠️ Este sería un caso candidato para revisión manual o predicción con umbral dinámico.\n",
        "\n",
        "---\n",
        "\n",
        "## ✅ Recomendaciones\n",
        "\n",
        "1. **Random Forest** muestra predicciones más seguras (mayor diferencia entre fallos y no fallos).\n",
        "2. **XGBoost** es más conservador: clasifica más registros como fallos pero con probabilidades más suaves.\n",
        "3. Para producción:\n",
        "   - Puedes usar un **modelo combinado/votado**: solo marcar fallo si ambos coinciden, o si la probabilidad promedio supera un umbral.\n",
        "   - O ajustar el umbral de decisión en función de la **curva ROC**.\n",
        "\n",
        "---\n"
      ],
      "metadata": {
        "nteract": {
          "transient": {
            "deleting": false
          }
        }
      }
    },
    {
      "cell_type": "markdown",
      "source": [
        "✅ Hemos empaquetado todo como un módulo llamado predictor.py. (Users/aurelio.sosa.netmind/mispruebas/modulo3b/predictor.py)\n",
        "\n",
        "Este módulo incluye:\n",
        "\n",
        "Carga de modelos (cargar_modelo)\n",
        "\n",
        "Predicción individual (predecir_con_modelo)\n",
        "\n",
        "Comparación entre modelos (comparar_modelos)"
      ],
      "metadata": {
        "nteract": {
          "transient": {
            "deleting": false
          }
        }
      }
    },
    {
      "cell_type": "markdown",
      "source": [
        "\n",
        "---\n",
        "\n",
        "## 🔍 1. ¿Qué hacen Random Forest y XGBoost?\n",
        "\n",
        "Ambos modelos son **clasificadores supervisados**. En este caso, predicen si un equipo **fallará (1)** o **no fallará (0)**, usando variables como temperatura, vibración, horas de operación, etc.\n",
        "\n",
        "| Modelo           | Qué hace                                              |\n",
        "|------------------|--------------------------------------------------------|\n",
        "| **Random Forest** | Usa muchos árboles de decisión y vota el resultado.   |\n",
        "| **XGBoost**       | Entrena árboles de forma secuencial corrigiendo errores anteriores (boosting). Muy eficaz en competiciones. |\n",
        "\n",
        "---\n",
        "\n",
        "## 🧠 2. ¿Qué significa el resultado de una predicción?\n",
        "\n",
        "Ambos modelos devuelven dos cosas:\n",
        "\n",
        "- `predicción`: 0 o 1 → **fallo o no fallo**\n",
        "- `probabilidad de fallo`: un valor entre 0 y 1 (cuán seguro está el modelo)\n",
        "\n",
        "> Ejemplo:  \n",
        "> `Predicción = 1`, `Probabilidad = 0.87` → el modelo cree con 87% de confianza que el equipo fallará.\n",
        "\n",
        "---\n",
        "\n",
        "## 📈 3. Visualizaciones para analizar el rendimiento\n",
        "\n",
        "### 🔹 Matriz de Confusión\n",
        "\n",
        "Muestra los verdaderos positivos, falsos positivos, verdaderos negativos y falsos negativos. Ideal para ver qué tan bien clasifica el modelo.\n",
        "\n",
        "---\n",
        "\n",
        "### 🔹 Curva ROC (Receiver Operating Characteristic)\n",
        "\n",
        "Muestra qué tan bien el modelo distingue entre las clases. Cuanto más cerca del vértice superior izquierdo, mejor.\n",
        "\n",
        "---\n",
        "\n",
        "### 📌 ¿Qué visualizar según el objetivo?\n",
        "\n",
        "| Objetivo                        | Visualización recomendada |\n",
        "|--------------------------------|----------------------------|\n",
        "| Ver cuántos aciertos y errores | Matriz de confusión        |\n",
        "| Ver rendimiento global         | Curva ROC / AUC            |\n",
        "| Ver qué variables influyen más | Importancia de variables   |\n",
        "\n",
        "---\n"
      ],
      "metadata": {
        "nteract": {
          "transient": {
            "deleting": false
          }
        }
      }
    },
    {
      "cell_type": "code",
      "source": [
        "from sklearn.metrics import confusion_matrix, ConfusionMatrixDisplay, roc_curve, auc\n",
        "import matplotlib.pyplot as plt\n",
        "\n",
        "# 1. Matriz de confusión - Random Forest\n",
        "y_pred_rf = modelo_rf.predict(X_test)\n",
        "cm_rf = confusion_matrix(y_test, y_pred_rf)\n",
        "disp_rf = ConfusionMatrixDisplay(confusion_matrix=cm_rf, display_labels=[0, 1])\n",
        "disp_rf.plot(cmap=\"Blues\")\n",
        "plt.title(\"Matriz de Confusi\\u00f3n - Random Forest\")\n",
        "plt.show()\n",
        "\n",
        "# 2. Matriz de confusión - XGBoost\n",
        "y_pred_xgb = modelo_xgb.predict(X_test)\n",
        "cm_xgb = confusion_matrix(y_test, y_pred_xgb)\n",
        "disp_xgb = ConfusionMatrixDisplay(confusion_matrix=cm_xgb, display_labels=[0, 1])\n",
        "disp_xgb.plot(cmap=\"Blues\")\n",
        "plt.title(\"Matriz de Confusi\\u00f3n - XGBoost\")\n",
        "plt.show()\n",
        "\n",
        "# 3. Curva ROC - Random Forest\n",
        "y_prob_rf = modelo_rf.predict_proba(X_test)[:, 1]\n",
        "fpr_rf, tpr_rf, _ = roc_curve(y_test, y_prob_rf)\n",
        "roc_auc_rf = auc(fpr_rf, tpr_rf)\n",
        "\n",
        "# 4. Curva ROC - XGBoost\n",
        "y_prob_xgb = modelo_xgb.predict_proba(X_test)[:, 1]\n",
        "fpr_xgb, tpr_xgb, _ = roc_curve(y_test, y_prob_xgb)\n",
        "roc_auc_xgb = auc(fpr_xgb, tpr_xgb)\n",
        "\n",
        "# 5. Plot ROC curves\n",
        "plt.figure()\n",
        "plt.plot(fpr_rf, tpr_rf, label=f'Random Forest (AUC = {roc_auc_rf:.2f})')\n",
        "plt.plot(fpr_xgb, tpr_xgb, label=f'XGBoost (AUC = {roc_auc_xgb:.2f})')\n",
        "plt.plot([0, 1], [0, 1], linestyle='--', color='gray')\n",
        "plt.xlabel('Tasa de Falsos Positivos')\n",
        "plt.ylabel('Tasa de Verdaderos Positivos')\n",
        "plt.title('Curva ROC Comparativa')\n",
        "plt.legend()\n",
        "plt.grid()\n",
        "plt.show()\n",
        "\n"
      ],
      "outputs": [
        {
          "output_type": "display_data",
          "data": {
            "text/plain": "<Figure size 640x480 with 2 Axes>",
            "image/png": "[encoded data removed]"
          },
          "metadata": {}
        },
        {
          "output_type": "display_data",
          "data": {
            "text/plain": "<Figure size 640x480 with 2 Axes>",
            "image/png": "[encoded data removed]"
          },
          "metadata": {}
        },
        {
          "output_type": "display_data",
          "data": {
            "text/plain": "<Figure size 640x480 with 1 Axes>",
            "image/png": "[encoded data removed]"
          },
          "metadata": {}
        }
      ],
      "execution_count": 25,
      "metadata": {
        "gather": {
          "logged": 1743579705277
        }
      }
    },
    {
      "cell_type": "markdown",
      "source": [
        "---\n",
        "\n",
        "## 🧩 ¿Qué estamos analizando?\n",
        "\n",
        "Estás comparando el rendimiento de **dos modelos predictivos**:\n",
        "\n",
        "- **Random Forest**\n",
        "- **XGBoost**\n",
        "\n",
        "Ambos están entrenados para **predecir si un equipo fallará** (`1`) o **no fallará** (`0`) en una planta energética.\n",
        "\n",
        "Vamos a interpretar sus resultados usando:\n",
        "\n",
        "1. **Matriz de Confusión** → muestra aciertos y errores.\n",
        "2. **Curva ROC** → muestra qué tan bien separa clases (fallo vs no fallo).\n",
        "\n",
        "---\n",
        "\n",
        "## 📊 1. Matriz de Confusión\n",
        "\n",
        "### 📘 ¿Qué es?\n",
        "\n",
        "Una tabla que compara lo que el modelo **predijo** con lo que realmente ocurrió:\n",
        "\n",
        "|                       | Predicción: No Fallo (0) | Predicción: Fallo (1) |\n",
        "|-----------------------|--------------------------|------------------------|\n",
        "| **Real: No Fallo (0)**| Verdadero Negativo (TN)  | Falso Positivo (FP)   |\n",
        "| **Real: Fallo (1)**   | Falso Negativo (FN)      | Verdadero Positivo (TP)|\n",
        "\n",
        "---\n",
        "\n",
        "### ✅ Matriz de Confusión - Random Forest\n",
        "\n",
        "|                        | Pred. No Fallo | Pred. Fallo |\n",
        "|------------------------|----------------|-------------|\n",
        "| **Real: No Fallo (0)** | 26,142 ✅       | 837 ❌      |\n",
        "| **Real: Fallo (1)**    | 876 ❌          | 25,548 ✅   |\n",
        "\n",
        "🔹 **Muy buen modelo**:  \n",
        "- Acierta el 96.8% de las veces.\n",
        "- Comete pocos errores, tanto falsos positivos como negativos.\n",
        "\n",
        "---\n",
        "\n",
        "### ⚠️ Matriz de Confusión - XGBoost\n",
        "\n",
        "|                        | Pred. No Fallo | Pred. Fallo |\n",
        "|------------------------|----------------|-------------|\n",
        "| **Real: No Fallo (0)** | 22,582 ✅       | 4,397 ❌    |\n",
        "| **Real: Fallo (1)**    | 4,430 ❌        | 21,994 ✅   |\n",
        "\n",
        "🔸 **Menor precisión**:\n",
        "- Más de **4 mil fallos no detectados** (FN).\n",
        "- Muchos más **falsos positivos** que Random Forest.\n",
        "\n",
        "---\n",
        "\n",
        "## 📈 2. Curva ROC (Receiver Operating Characteristic)\n",
        "\n",
        "### 📘 ¿Qué es?\n",
        "\n",
        "Una gráfica que evalúa **la capacidad del modelo para distinguir entre las clases** (fallo / no fallo) ajustando el umbral de decisión.\n",
        "\n",
        "- **Eje X**: Falsos Positivos (cuando predice \"fallo\" pero no lo es).\n",
        "- **Eje Y**: Verdaderos Positivos (cuando acierta al predecir un fallo).\n",
        "- **Curva ideal**: muy cerca del vértice superior izquierdo.\n",
        "- **Área Bajo la Curva (AUC)**: cuanto más cerca a 1.0, mejor el modelo.\n",
        "\n",
        "---\n",
        "\n",
        "### ✅ Curva ROC Comparativa\n",
        "\n",
        "| Modelo         | AUC (Área Bajo la Curva) | Comentario                         |\n",
        "|----------------|--------------------------|-------------------------------------|\n",
        "| **Random Forest** | **0.99**                       | Excelente. Distingue casi perfectamente. |\n",
        "| **XGBoost**       | **0.92**                       | Muy bueno, pero claramente peor que RF. |\n",
        "\n",
        "---\n",
        "\n",
        "## 🏁 Conclusión Global\n",
        "\n",
        "| Aspecto                  | Random Forest       | XGBoost             |\n",
        "|--------------------------|---------------------|---------------------|\n",
        "| **Aciertos globales**     | Muy alto (96.8%)    | Medio (84%)         |\n",
        "| **Errores de predicción**| Muy bajos           | Más frecuentes      |\n",
        "| **AUC ROC**              | Excelente (0.99)     | Buena (0.92)        |\n",
        "| **Uso recomendado**      | ✅ Ideal para producción | Solo si se ajusta bien |\n",
        "\n",
        "---\n",
        "\n",
        "## ✅ ¿Qué podrías hacer a continuación?\n",
        "\n",
        "1. **Ajustar el umbral** de XGBoost (por defecto es 0.5). Aumentarlo puede reducir falsos positivos.\n",
        "2. **Combinar ambos modelos** para tomar decisiones solo si ambos predicen fallo.\n",
        "3. **Visualizar la importancia de variables** para entender qué influye más en la predicción.\n"
      ],
      "metadata": {
        "nteract": {
          "transient": {
            "deleting": false
          }
        }
      }
    }
  ],
  "metadata": {
    "kernelspec": {
      "name": "python310-sdkv2",
      "language": "python",
      "display_name": "Python 3.10 - SDK v2"
    },
    "language_info": {
      "name": "python",
      "version": "3.10.14",
      "mimetype": "text/x-python",
      "codemirror_mode": {
        "name": "ipython",
        "version": 3
      },
      "pygments_lexer": "ipython3",
      "nbconvert_exporter": "python",
      "file_extension": ".py"
    },
    "microsoft": {
      "ms_spell_check": {
        "ms_spell_check_language": "es"
      },
      "host": {
        "AzureML": {
          "notebookHasBeenCompleted": true
        }
      }
    },
    "kernel_info": {
      "name": "python310-sdkv2"
    },
    "nteract": {
      "version": "nteract-front-end@1.0.0"
    }
  },
  "nbformat": 4,
  "nbformat_minor": 2
}